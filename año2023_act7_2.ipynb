{
  "nbformat": 4,
  "nbformat_minor": 0,
  "metadata": {
    "colab": {
      "provenance": [],
      "include_colab_link": true
    },
    "kernelspec": {
      "name": "python3",
      "display_name": "Python 3"
    },
    "language_info": {
      "name": "python"
    }
  },
  "cells": [
    {
      "cell_type": "markdown",
      "metadata": {
        "id": "view-in-github",
        "colab_type": "text"
      },
      "source": [
        "<a href=\"https://colab.research.google.com/github/pauarmentaa/Regresion-No-Lineal-y-Regresion-Logistica/blob/main/a%C3%B1o2023_act7_2.ipynb\" target=\"_parent\"><img src=\"https://colab.research.google.com/assets/colab-badge.svg\" alt=\"Open In Colab\"/></a>"
      ]
    },
    {
      "cell_type": "code",
      "execution_count": null,
      "metadata": {
        "id": "38EWRjuebp99"
      },
      "outputs": [],
      "source": [
        "#Cargamos librerias\n",
        "import pandas as pd\n",
        "import numpy as np\n",
        "import matplotlib.pyplot as plt\n",
        "import scipy.special as special\n",
        "from scipy.optimize import curve_fit\n",
        "import seaborn as sns\n",
        "from sklearn.metrics import r2_score\n",
        "from sklearn.model_selection import train_test_split\n",
        "from sklearn.preprocessing import StandardScaler"
      ]
    },
    {
      "cell_type": "code",
      "source": [
        "df= pd.read_csv(\"Gastos_costos_2023.csv\")\n",
        "df.head(2)"
      ],
      "metadata": {
        "colab": {
          "base_uri": "https://localhost:8080/",
          "height": 112
        },
        "id": "BQ39Bav9Q9kH",
        "outputId": "bea2a342-8951-4a08-a7ef-f45bea62609f"
      },
      "execution_count": null,
      "outputs": [
        {
          "output_type": "execute_result",
          "data": {
            "text/plain": [
              "   Unnamed: 0       Fecha Folio                  Proveedor Descripción  \\\n",
              "0           0  2023-01-01    31  AESA ARTICULOS ELECTRICOS        Pago   \n",
              "1           1  2023-01-01    38  AESA ARTICULOS ELECTRICOS        Pago   \n",
              "\n",
              "  TIPO GASTO  Importe  IVA  TOTAL MX  \n",
              "0    COMPRAS      0.0  0.0       0.0  \n",
              "1    COMPRAS      0.0  0.0       0.0  "
            ],
            "text/html": [
              "\n",
              "  <div id=\"df-fb9727d9-02e4-4fc3-987c-ff5b274db3f3\">\n",
              "    <div class=\"colab-df-container\">\n",
              "      <div>\n",
              "<style scoped>\n",
              "    .dataframe tbody tr th:only-of-type {\n",
              "        vertical-align: middle;\n",
              "    }\n",
              "\n",
              "    .dataframe tbody tr th {\n",
              "        vertical-align: top;\n",
              "    }\n",
              "\n",
              "    .dataframe thead th {\n",
              "        text-align: right;\n",
              "    }\n",
              "</style>\n",
              "<table border=\"1\" class=\"dataframe\">\n",
              "  <thead>\n",
              "    <tr style=\"text-align: right;\">\n",
              "      <th></th>\n",
              "      <th>Unnamed: 0</th>\n",
              "      <th>Fecha</th>\n",
              "      <th>Folio</th>\n",
              "      <th>Proveedor</th>\n",
              "      <th>Descripción</th>\n",
              "      <th>TIPO GASTO</th>\n",
              "      <th>Importe</th>\n",
              "      <th>IVA</th>\n",
              "      <th>TOTAL MX</th>\n",
              "    </tr>\n",
              "  </thead>\n",
              "  <tbody>\n",
              "    <tr>\n",
              "      <th>0</th>\n",
              "      <td>0</td>\n",
              "      <td>2023-01-01</td>\n",
              "      <td>31</td>\n",
              "      <td>AESA ARTICULOS ELECTRICOS</td>\n",
              "      <td>Pago</td>\n",
              "      <td>COMPRAS</td>\n",
              "      <td>0.0</td>\n",
              "      <td>0.0</td>\n",
              "      <td>0.0</td>\n",
              "    </tr>\n",
              "    <tr>\n",
              "      <th>1</th>\n",
              "      <td>1</td>\n",
              "      <td>2023-01-01</td>\n",
              "      <td>38</td>\n",
              "      <td>AESA ARTICULOS ELECTRICOS</td>\n",
              "      <td>Pago</td>\n",
              "      <td>COMPRAS</td>\n",
              "      <td>0.0</td>\n",
              "      <td>0.0</td>\n",
              "      <td>0.0</td>\n",
              "    </tr>\n",
              "  </tbody>\n",
              "</table>\n",
              "</div>\n",
              "      <button class=\"colab-df-convert\" onclick=\"convertToInteractive('df-fb9727d9-02e4-4fc3-987c-ff5b274db3f3')\"\n",
              "              title=\"Convert this dataframe to an interactive table.\"\n",
              "              style=\"display:none;\">\n",
              "        \n",
              "  <svg xmlns=\"http://www.w3.org/2000/svg\" height=\"24px\"viewBox=\"0 0 24 24\"\n",
              "       width=\"24px\">\n",
              "    <path d=\"M0 0h24v24H0V0z\" fill=\"none\"/>\n",
              "    <path d=\"M18.56 5.44l.94 2.06.94-2.06 2.06-.94-2.06-.94-.94-2.06-.94 2.06-2.06.94zm-11 1L8.5 8.5l.94-2.06 2.06-.94-2.06-.94L8.5 2.5l-.94 2.06-2.06.94zm10 10l.94 2.06.94-2.06 2.06-.94-2.06-.94-.94-2.06-.94 2.06-2.06.94z\"/><path d=\"M17.41 7.96l-1.37-1.37c-.4-.4-.92-.59-1.43-.59-.52 0-1.04.2-1.43.59L10.3 9.45l-7.72 7.72c-.78.78-.78 2.05 0 2.83L4 21.41c.39.39.9.59 1.41.59.51 0 1.02-.2 1.41-.59l7.78-7.78 2.81-2.81c.8-.78.8-2.07 0-2.86zM5.41 20L4 18.59l7.72-7.72 1.47 1.35L5.41 20z\"/>\n",
              "  </svg>\n",
              "      </button>\n",
              "      \n",
              "  <style>\n",
              "    .colab-df-container {\n",
              "      display:flex;\n",
              "      flex-wrap:wrap;\n",
              "      gap: 12px;\n",
              "    }\n",
              "\n",
              "    .colab-df-convert {\n",
              "      background-color: #E8F0FE;\n",
              "      border: none;\n",
              "      border-radius: 50%;\n",
              "      cursor: pointer;\n",
              "      display: none;\n",
              "      fill: #1967D2;\n",
              "      height: 32px;\n",
              "      padding: 0 0 0 0;\n",
              "      width: 32px;\n",
              "    }\n",
              "\n",
              "    .colab-df-convert:hover {\n",
              "      background-color: #E2EBFA;\n",
              "      box-shadow: 0px 1px 2px rgba(60, 64, 67, 0.3), 0px 1px 3px 1px rgba(60, 64, 67, 0.15);\n",
              "      fill: #174EA6;\n",
              "    }\n",
              "\n",
              "    [theme=dark] .colab-df-convert {\n",
              "      background-color: #3B4455;\n",
              "      fill: #D2E3FC;\n",
              "    }\n",
              "\n",
              "    [theme=dark] .colab-df-convert:hover {\n",
              "      background-color: #434B5C;\n",
              "      box-shadow: 0px 1px 3px 1px rgba(0, 0, 0, 0.15);\n",
              "      filter: drop-shadow(0px 1px 2px rgba(0, 0, 0, 0.3));\n",
              "      fill: #FFFFFF;\n",
              "    }\n",
              "  </style>\n",
              "\n",
              "      <script>\n",
              "        const buttonEl =\n",
              "          document.querySelector('#df-fb9727d9-02e4-4fc3-987c-ff5b274db3f3 button.colab-df-convert');\n",
              "        buttonEl.style.display =\n",
              "          google.colab.kernel.accessAllowed ? 'block' : 'none';\n",
              "\n",
              "        async function convertToInteractive(key) {\n",
              "          const element = document.querySelector('#df-fb9727d9-02e4-4fc3-987c-ff5b274db3f3');\n",
              "          const dataTable =\n",
              "            await google.colab.kernel.invokeFunction('convertToInteractive',\n",
              "                                                     [key], {});\n",
              "          if (!dataTable) return;\n",
              "\n",
              "          const docLinkHtml = 'Like what you see? Visit the ' +\n",
              "            '<a target=\"_blank\" href=https://colab.research.google.com/notebooks/data_table.ipynb>data table notebook</a>'\n",
              "            + ' to learn more about interactive tables.';\n",
              "          element.innerHTML = '';\n",
              "          dataTable['output_type'] = 'display_data';\n",
              "          await google.colab.output.renderOutput(dataTable, element);\n",
              "          const docLink = document.createElement('div');\n",
              "          docLink.innerHTML = docLinkHtml;\n",
              "          element.appendChild(docLink);\n",
              "        }\n",
              "      </script>\n",
              "    </div>\n",
              "  </div>\n",
              "  "
            ]
          },
          "metadata": {},
          "execution_count": 12
        }
      ]
    },
    {
      "cell_type": "code",
      "source": [
        "df[\"TIPO GASTO\"].unique()"
      ],
      "metadata": {
        "colab": {
          "base_uri": "https://localhost:8080/"
        },
        "id": "-1kM0VcZRFBH",
        "outputId": "e605e4e1-8869-40cd-baeb-5efdcc29e47a"
      },
      "execution_count": null,
      "outputs": [
        {
          "output_type": "execute_result",
          "data": {
            "text/plain": [
              "array(['COMPRAS', 'ARRENDAMIENTO FINANCIERO', 'COMISION BANCARIA',\n",
              "       'CAPACITACION', 'SEGUROS', 'NO DEDUCIBLE', 'PUBLICIDAD',\n",
              "       'TELEFONO', 'MTTO COMPUTO', 'COMISION MIXTA', 'HONORARIOS PM',\n",
              "       'UNIFORMES', 'MONITOREO CAMARAS ADT', 'COMPRAS ', 'MENSAJERIA',\n",
              "       'HONORARIOS CONTABLES', 'PAQUETERIA', 'ALIMENTOS',\n",
              "       'MTTO TRANSPORTE', 'VARIOS', 'GERENCIA ADMON', 'DERECHOS',\n",
              "       'RENTA COPIADORA', 'SUSCRIPCIONES', 'GASOLINA', 'MTTO LOCAL',\n",
              "       'CREDITO ', 'MAQUINARIA', 'PAPELERIA', 'IMSS/INFONAVIT',\n",
              "       'SUELDOS DIRECCION', 'MTTO MAQUINARIA', 'VALES DESPENSA',\n",
              "       'MTTO OFICINA ', 'MTT OFICINA', 'Desconocido', 'RENTA AUTO',\n",
              "       'FLETES'], dtype=object)"
            ]
          },
          "metadata": {},
          "execution_count": 13
        }
      ]
    },
    {
      "cell_type": "code",
      "source": [
        "#Convierto una variable a dicotómica \n",
        "df['TIPO GASTO']= df['TIPO GASTO'].replace([ 'ARRENDAMIENTO FINANCIERO', 'COMISION BANCARIA',\n",
        "       'CAPACITACION', 'SEGUROS', 'NO DEDUCIBLE', 'PUBLICIDAD',\n",
        "       'TELEFONO', 'MTTO COMPUTO', 'COMISION MIXTA', 'HONORARIOS PM',\n",
        "       'UNIFORMES', 'MONITOREO CAMARAS ADT', 'COMPRAS ', 'MENSAJERIA',\n",
        "       'HONORARIOS CONTABLES', 'PAQUETERIA', 'ALIMENTOS',\n",
        "       'MTTO TRANSPORTE', 'VARIOS', 'GERENCIA ADMON', 'DERECHOS',\n",
        "       'RENTA COPIADORA', 'SUSCRIPCIONES', 'GASOLINA', 'MTTO LOCAL',\n",
        "       'CREDITO ', 'MAQUINARIA', 'PAPELERIA', 'IMSS/INFONAVIT',\n",
        "       'SUELDOS DIRECCION', 'MTTO MAQUINARIA', 'VALES DESPENSA',\n",
        "       'MTTO OFICINA ', 'MTT OFICINA', 'Desconocido', 'RENTA AUTO',\"FLETES\"], \"OTRAS COMPRAS\")\n",
        "df"
      ],
      "metadata": {
        "id": "3GF62qwb13SC",
        "colab": {
          "base_uri": "https://localhost:8080/",
          "height": 710
        },
        "outputId": "57c6eb0f-fd9f-4bcf-92a7-4419d7c9c5a6"
      },
      "execution_count": null,
      "outputs": [
        {
          "output_type": "execute_result",
          "data": {
            "text/plain": [
              "     Unnamed: 0       Fecha       Folio  \\\n",
              "0             0  2023-01-01          31   \n",
              "1             1  2023-01-01          38   \n",
              "2             2  2023-01-01      341932   \n",
              "3             3  2023-01-01      341933   \n",
              "4             4  2023-01-01      342205   \n",
              "..          ...         ...         ...   \n",
              "392         392  2023-02-01      882974   \n",
              "393         393  2023-02-01      053560   \n",
              "394         394  2023-02-01  1092957089   \n",
              "395         395  2023-02-01     1453820   \n",
              "396         396  2023-02-01          18   \n",
              "\n",
              "                                             Proveedor  \\\n",
              "0                            AESA ARTICULOS ELECTRICOS   \n",
              "1                            AESA ARTICULOS ELECTRICOS   \n",
              "2                         BEPENSA LEASING S.A. DE C.V.   \n",
              "3                         BEPENSA LEASING S.A. DE C.V.   \n",
              "4                         BEPENSA LEASING S.A. DE C.V.   \n",
              "..                                                 ...   \n",
              "392  BANCO INVEX, S.A., INSTITUCION DE BANCA MULTIP...   \n",
              "393                                BEBIDAS PURIFICADAS   \n",
              "394  BANCO MERCANTIL DEL NORTE SA INSTITUCION DE BA...   \n",
              "395                      EFECTIVALE S. de R.L. de C.V.   \n",
              "396                          AESA ARTICULOS ELECTRICOS   \n",
              "\n",
              "                                           Descripción     TIPO GASTO  \\\n",
              "0                                                 Pago        COMPRAS   \n",
              "1                                                 Pago        COMPRAS   \n",
              "2    AA RENTA EXIGIBLE CL0000006876 30/36 de 03/12/...  OTRAS COMPRAS   \n",
              "3    AA RENTA EXIGIBLE CL0000006877 30/36 de 03/12/...  OTRAS COMPRAS   \n",
              "4    AA RENTA EXIGIBLE CL0000009486 5/48 de 03/12/2...  OTRAS COMPRAS   \n",
              "..                                                 ...            ...   \n",
              "392                             COMISIONES E INTERESES  OTRAS COMPRAS   \n",
              "393                         Epura 20 Lts Policarbonato  OTRAS COMPRAS   \n",
              "394                                SERVICIOS BANCARIOS  OTRAS COMPRAS   \n",
              "395  CONSUMOS DE COMBUSTIBLE DE MONEDEROS ELECTRONICOS  OTRAS COMPRAS   \n",
              "396                                               Pago        COMPRAS   \n",
              "\n",
              "      Importe      IVA  TOTAL MX  \n",
              "0        0.00     0.00      0.00  \n",
              "1        0.00     0.00      0.00  \n",
              "2     5551.38   888.22   6439.60  \n",
              "3     5551.98   888.32   6440.30  \n",
              "4     8454.37  1352.70   9807.07  \n",
              "..        ...      ...       ...  \n",
              "392      0.00     0.00      0.00  \n",
              "393    220.00     0.00    220.00  \n",
              "394  18071.52   682.40  18753.92  \n",
              "395  14472.32     0.00  14472.32  \n",
              "396      0.00     0.00      0.00  \n",
              "\n",
              "[397 rows x 9 columns]"
            ],
            "text/html": [
              "\n",
              "  <div id=\"df-55d1a154-f5ef-455c-ad38-00d436cea93c\">\n",
              "    <div class=\"colab-df-container\">\n",
              "      <div>\n",
              "<style scoped>\n",
              "    .dataframe tbody tr th:only-of-type {\n",
              "        vertical-align: middle;\n",
              "    }\n",
              "\n",
              "    .dataframe tbody tr th {\n",
              "        vertical-align: top;\n",
              "    }\n",
              "\n",
              "    .dataframe thead th {\n",
              "        text-align: right;\n",
              "    }\n",
              "</style>\n",
              "<table border=\"1\" class=\"dataframe\">\n",
              "  <thead>\n",
              "    <tr style=\"text-align: right;\">\n",
              "      <th></th>\n",
              "      <th>Unnamed: 0</th>\n",
              "      <th>Fecha</th>\n",
              "      <th>Folio</th>\n",
              "      <th>Proveedor</th>\n",
              "      <th>Descripción</th>\n",
              "      <th>TIPO GASTO</th>\n",
              "      <th>Importe</th>\n",
              "      <th>IVA</th>\n",
              "      <th>TOTAL MX</th>\n",
              "    </tr>\n",
              "  </thead>\n",
              "  <tbody>\n",
              "    <tr>\n",
              "      <th>0</th>\n",
              "      <td>0</td>\n",
              "      <td>2023-01-01</td>\n",
              "      <td>31</td>\n",
              "      <td>AESA ARTICULOS ELECTRICOS</td>\n",
              "      <td>Pago</td>\n",
              "      <td>COMPRAS</td>\n",
              "      <td>0.00</td>\n",
              "      <td>0.00</td>\n",
              "      <td>0.00</td>\n",
              "    </tr>\n",
              "    <tr>\n",
              "      <th>1</th>\n",
              "      <td>1</td>\n",
              "      <td>2023-01-01</td>\n",
              "      <td>38</td>\n",
              "      <td>AESA ARTICULOS ELECTRICOS</td>\n",
              "      <td>Pago</td>\n",
              "      <td>COMPRAS</td>\n",
              "      <td>0.00</td>\n",
              "      <td>0.00</td>\n",
              "      <td>0.00</td>\n",
              "    </tr>\n",
              "    <tr>\n",
              "      <th>2</th>\n",
              "      <td>2</td>\n",
              "      <td>2023-01-01</td>\n",
              "      <td>341932</td>\n",
              "      <td>BEPENSA LEASING S.A. DE C.V.</td>\n",
              "      <td>AA RENTA EXIGIBLE CL0000006876 30/36 de 03/12/...</td>\n",
              "      <td>OTRAS COMPRAS</td>\n",
              "      <td>5551.38</td>\n",
              "      <td>888.22</td>\n",
              "      <td>6439.60</td>\n",
              "    </tr>\n",
              "    <tr>\n",
              "      <th>3</th>\n",
              "      <td>3</td>\n",
              "      <td>2023-01-01</td>\n",
              "      <td>341933</td>\n",
              "      <td>BEPENSA LEASING S.A. DE C.V.</td>\n",
              "      <td>AA RENTA EXIGIBLE CL0000006877 30/36 de 03/12/...</td>\n",
              "      <td>OTRAS COMPRAS</td>\n",
              "      <td>5551.98</td>\n",
              "      <td>888.32</td>\n",
              "      <td>6440.30</td>\n",
              "    </tr>\n",
              "    <tr>\n",
              "      <th>4</th>\n",
              "      <td>4</td>\n",
              "      <td>2023-01-01</td>\n",
              "      <td>342205</td>\n",
              "      <td>BEPENSA LEASING S.A. DE C.V.</td>\n",
              "      <td>AA RENTA EXIGIBLE CL0000009486 5/48 de 03/12/2...</td>\n",
              "      <td>OTRAS COMPRAS</td>\n",
              "      <td>8454.37</td>\n",
              "      <td>1352.70</td>\n",
              "      <td>9807.07</td>\n",
              "    </tr>\n",
              "    <tr>\n",
              "      <th>...</th>\n",
              "      <td>...</td>\n",
              "      <td>...</td>\n",
              "      <td>...</td>\n",
              "      <td>...</td>\n",
              "      <td>...</td>\n",
              "      <td>...</td>\n",
              "      <td>...</td>\n",
              "      <td>...</td>\n",
              "      <td>...</td>\n",
              "    </tr>\n",
              "    <tr>\n",
              "      <th>392</th>\n",
              "      <td>392</td>\n",
              "      <td>2023-02-01</td>\n",
              "      <td>882974</td>\n",
              "      <td>BANCO INVEX, S.A., INSTITUCION DE BANCA MULTIP...</td>\n",
              "      <td>COMISIONES E INTERESES</td>\n",
              "      <td>OTRAS COMPRAS</td>\n",
              "      <td>0.00</td>\n",
              "      <td>0.00</td>\n",
              "      <td>0.00</td>\n",
              "    </tr>\n",
              "    <tr>\n",
              "      <th>393</th>\n",
              "      <td>393</td>\n",
              "      <td>2023-02-01</td>\n",
              "      <td>053560</td>\n",
              "      <td>BEBIDAS PURIFICADAS</td>\n",
              "      <td>Epura 20 Lts Policarbonato</td>\n",
              "      <td>OTRAS COMPRAS</td>\n",
              "      <td>220.00</td>\n",
              "      <td>0.00</td>\n",
              "      <td>220.00</td>\n",
              "    </tr>\n",
              "    <tr>\n",
              "      <th>394</th>\n",
              "      <td>394</td>\n",
              "      <td>2023-02-01</td>\n",
              "      <td>1092957089</td>\n",
              "      <td>BANCO MERCANTIL DEL NORTE SA INSTITUCION DE BA...</td>\n",
              "      <td>SERVICIOS BANCARIOS</td>\n",
              "      <td>OTRAS COMPRAS</td>\n",
              "      <td>18071.52</td>\n",
              "      <td>682.40</td>\n",
              "      <td>18753.92</td>\n",
              "    </tr>\n",
              "    <tr>\n",
              "      <th>395</th>\n",
              "      <td>395</td>\n",
              "      <td>2023-02-01</td>\n",
              "      <td>1453820</td>\n",
              "      <td>EFECTIVALE S. de R.L. de C.V.</td>\n",
              "      <td>CONSUMOS DE COMBUSTIBLE DE MONEDEROS ELECTRONICOS</td>\n",
              "      <td>OTRAS COMPRAS</td>\n",
              "      <td>14472.32</td>\n",
              "      <td>0.00</td>\n",
              "      <td>14472.32</td>\n",
              "    </tr>\n",
              "    <tr>\n",
              "      <th>396</th>\n",
              "      <td>396</td>\n",
              "      <td>2023-02-01</td>\n",
              "      <td>18</td>\n",
              "      <td>AESA ARTICULOS ELECTRICOS</td>\n",
              "      <td>Pago</td>\n",
              "      <td>COMPRAS</td>\n",
              "      <td>0.00</td>\n",
              "      <td>0.00</td>\n",
              "      <td>0.00</td>\n",
              "    </tr>\n",
              "  </tbody>\n",
              "</table>\n",
              "<p>397 rows × 9 columns</p>\n",
              "</div>\n",
              "      <button class=\"colab-df-convert\" onclick=\"convertToInteractive('df-55d1a154-f5ef-455c-ad38-00d436cea93c')\"\n",
              "              title=\"Convert this dataframe to an interactive table.\"\n",
              "              style=\"display:none;\">\n",
              "        \n",
              "  <svg xmlns=\"http://www.w3.org/2000/svg\" height=\"24px\"viewBox=\"0 0 24 24\"\n",
              "       width=\"24px\">\n",
              "    <path d=\"M0 0h24v24H0V0z\" fill=\"none\"/>\n",
              "    <path d=\"M18.56 5.44l.94 2.06.94-2.06 2.06-.94-2.06-.94-.94-2.06-.94 2.06-2.06.94zm-11 1L8.5 8.5l.94-2.06 2.06-.94-2.06-.94L8.5 2.5l-.94 2.06-2.06.94zm10 10l.94 2.06.94-2.06 2.06-.94-2.06-.94-.94-2.06-.94 2.06-2.06.94z\"/><path d=\"M17.41 7.96l-1.37-1.37c-.4-.4-.92-.59-1.43-.59-.52 0-1.04.2-1.43.59L10.3 9.45l-7.72 7.72c-.78.78-.78 2.05 0 2.83L4 21.41c.39.39.9.59 1.41.59.51 0 1.02-.2 1.41-.59l7.78-7.78 2.81-2.81c.8-.78.8-2.07 0-2.86zM5.41 20L4 18.59l7.72-7.72 1.47 1.35L5.41 20z\"/>\n",
              "  </svg>\n",
              "      </button>\n",
              "      \n",
              "  <style>\n",
              "    .colab-df-container {\n",
              "      display:flex;\n",
              "      flex-wrap:wrap;\n",
              "      gap: 12px;\n",
              "    }\n",
              "\n",
              "    .colab-df-convert {\n",
              "      background-color: #E8F0FE;\n",
              "      border: none;\n",
              "      border-radius: 50%;\n",
              "      cursor: pointer;\n",
              "      display: none;\n",
              "      fill: #1967D2;\n",
              "      height: 32px;\n",
              "      padding: 0 0 0 0;\n",
              "      width: 32px;\n",
              "    }\n",
              "\n",
              "    .colab-df-convert:hover {\n",
              "      background-color: #E2EBFA;\n",
              "      box-shadow: 0px 1px 2px rgba(60, 64, 67, 0.3), 0px 1px 3px 1px rgba(60, 64, 67, 0.15);\n",
              "      fill: #174EA6;\n",
              "    }\n",
              "\n",
              "    [theme=dark] .colab-df-convert {\n",
              "      background-color: #3B4455;\n",
              "      fill: #D2E3FC;\n",
              "    }\n",
              "\n",
              "    [theme=dark] .colab-df-convert:hover {\n",
              "      background-color: #434B5C;\n",
              "      box-shadow: 0px 1px 3px 1px rgba(0, 0, 0, 0.15);\n",
              "      filter: drop-shadow(0px 1px 2px rgba(0, 0, 0, 0.3));\n",
              "      fill: #FFFFFF;\n",
              "    }\n",
              "  </style>\n",
              "\n",
              "      <script>\n",
              "        const buttonEl =\n",
              "          document.querySelector('#df-55d1a154-f5ef-455c-ad38-00d436cea93c button.colab-df-convert');\n",
              "        buttonEl.style.display =\n",
              "          google.colab.kernel.accessAllowed ? 'block' : 'none';\n",
              "\n",
              "        async function convertToInteractive(key) {\n",
              "          const element = document.querySelector('#df-55d1a154-f5ef-455c-ad38-00d436cea93c');\n",
              "          const dataTable =\n",
              "            await google.colab.kernel.invokeFunction('convertToInteractive',\n",
              "                                                     [key], {});\n",
              "          if (!dataTable) return;\n",
              "\n",
              "          const docLinkHtml = 'Like what you see? Visit the ' +\n",
              "            '<a target=\"_blank\" href=https://colab.research.google.com/notebooks/data_table.ipynb>data table notebook</a>'\n",
              "            + ' to learn more about interactive tables.';\n",
              "          element.innerHTML = '';\n",
              "          dataTable['output_type'] = 'display_data';\n",
              "          await google.colab.output.renderOutput(dataTable, element);\n",
              "          const docLink = document.createElement('div');\n",
              "          docLink.innerHTML = docLinkHtml;\n",
              "          element.appendChild(docLink);\n",
              "        }\n",
              "      </script>\n",
              "    </div>\n",
              "  </div>\n",
              "  "
            ]
          },
          "metadata": {},
          "execution_count": 14
        }
      ]
    },
    {
      "cell_type": "code",
      "source": [
        "df[\"TIPO GASTO\"].unique()"
      ],
      "metadata": {
        "colab": {
          "base_uri": "https://localhost:8080/"
        },
        "id": "xTbrVc99R3ff",
        "outputId": "2b69098d-195b-4f3b-ab23-849629c47a19"
      },
      "execution_count": null,
      "outputs": [
        {
          "output_type": "execute_result",
          "data": {
            "text/plain": [
              "array(['COMPRAS', 'OTRAS COMPRAS'], dtype=object)"
            ]
          },
          "metadata": {},
          "execution_count": 15
        }
      ]
    },
    {
      "cell_type": "code",
      "source": [
        "#Cargar archivo csv desde seaborn\n",
        "#df=sns.load_dataset(name='titanic')\n",
        "#df.head(20)"
      ],
      "metadata": {
        "id": "dUTL3f-ucVrR"
      },
      "execution_count": null,
      "outputs": []
    },
    {
      "cell_type": "code",
      "source": [
        "#Rellenamos nulos\n",
        "df =df.fillna(method=\"bfill\")\n",
        "df =df.fillna(method=\"ffill\")\n"
      ],
      "metadata": {
        "id": "_uuDD5trcYoO"
      },
      "execution_count": null,
      "outputs": []
    },
    {
      "cell_type": "code",
      "source": [
        "#Declaramos las variables dependientes e independientes para la regresión Logística\n",
        "Vars_Indep= df[['TOTAL MX']]\n",
        "Var_Dep= df['TIPO GASTO']"
      ],
      "metadata": {
        "id": "UpTe1UuRcgnE"
      },
      "execution_count": null,
      "outputs": []
    },
    {
      "cell_type": "code",
      "source": [
        "#Redefinimos las variables \n",
        "X= Vars_Indep\n",
        "y= Var_Dep"
      ],
      "metadata": {
        "id": "wACjx4bAchca"
      },
      "execution_count": null,
      "outputs": []
    },
    {
      "cell_type": "code",
      "source": [
        "#Dividimos el conjunto de datos en la parte de entrenamiento y prueba:\n",
        "X_train, X_test, y_train, y_test = train_test_split(X, y, test_size=0.3, random_state =None)"
      ],
      "metadata": {
        "id": "0SlqN20_ckc5"
      },
      "execution_count": null,
      "outputs": []
    },
    {
      "cell_type": "code",
      "source": [
        "#Se escalan todos los datos\n",
        "escalar = StandardScaler()"
      ],
      "metadata": {
        "id": "MkwSH7-1eZpR"
      },
      "execution_count": null,
      "outputs": []
    },
    {
      "cell_type": "code",
      "source": [
        "#Para realizar el escalamiento de las variables “X” tanto de entrenamiento como de prueba, utilizaremos fit_transform\n",
        "X_train = escalar.fit_transform(X_train)\n",
        "X_test = escalar.transform(X_test)"
      ],
      "metadata": {
        "id": "m7G55cbNefKi"
      },
      "execution_count": null,
      "outputs": []
    },
    {
      "cell_type": "code",
      "source": [
        "#Definimos el algoritmo a utilizar\n",
        "from sklearn.linear_model import LogisticRegression\n",
        "algoritmo = LogisticRegression()"
      ],
      "metadata": {
        "id": "9ODFuBepehxE"
      },
      "execution_count": null,
      "outputs": []
    },
    {
      "cell_type": "code",
      "source": [
        "#Entrenamos el modelo\n",
        "algoritmo.fit(X_train, y_train)"
      ],
      "metadata": {
        "colab": {
          "base_uri": "https://localhost:8080/",
          "height": 75
        },
        "id": "TGoNkF8eej4u",
        "outputId": "cfa764f3-68bb-4ef5-f540-c03c9b67a516"
      },
      "execution_count": null,
      "outputs": [
        {
          "output_type": "execute_result",
          "data": {
            "text/plain": [
              "LogisticRegression()"
            ],
            "text/html": [
              "<style>#sk-container-id-1 {color: black;background-color: white;}#sk-container-id-1 pre{padding: 0;}#sk-container-id-1 div.sk-toggleable {background-color: white;}#sk-container-id-1 label.sk-toggleable__label {cursor: pointer;display: block;width: 100%;margin-bottom: 0;padding: 0.3em;box-sizing: border-box;text-align: center;}#sk-container-id-1 label.sk-toggleable__label-arrow:before {content: \"▸\";float: left;margin-right: 0.25em;color: #696969;}#sk-container-id-1 label.sk-toggleable__label-arrow:hover:before {color: black;}#sk-container-id-1 div.sk-estimator:hover label.sk-toggleable__label-arrow:before {color: black;}#sk-container-id-1 div.sk-toggleable__content {max-height: 0;max-width: 0;overflow: hidden;text-align: left;background-color: #f0f8ff;}#sk-container-id-1 div.sk-toggleable__content pre {margin: 0.2em;color: black;border-radius: 0.25em;background-color: #f0f8ff;}#sk-container-id-1 input.sk-toggleable__control:checked~div.sk-toggleable__content {max-height: 200px;max-width: 100%;overflow: auto;}#sk-container-id-1 input.sk-toggleable__control:checked~label.sk-toggleable__label-arrow:before {content: \"▾\";}#sk-container-id-1 div.sk-estimator input.sk-toggleable__control:checked~label.sk-toggleable__label {background-color: #d4ebff;}#sk-container-id-1 div.sk-label input.sk-toggleable__control:checked~label.sk-toggleable__label {background-color: #d4ebff;}#sk-container-id-1 input.sk-hidden--visually {border: 0;clip: rect(1px 1px 1px 1px);clip: rect(1px, 1px, 1px, 1px);height: 1px;margin: -1px;overflow: hidden;padding: 0;position: absolute;width: 1px;}#sk-container-id-1 div.sk-estimator {font-family: monospace;background-color: #f0f8ff;border: 1px dotted black;border-radius: 0.25em;box-sizing: border-box;margin-bottom: 0.5em;}#sk-container-id-1 div.sk-estimator:hover {background-color: #d4ebff;}#sk-container-id-1 div.sk-parallel-item::after {content: \"\";width: 100%;border-bottom: 1px solid gray;flex-grow: 1;}#sk-container-id-1 div.sk-label:hover label.sk-toggleable__label {background-color: #d4ebff;}#sk-container-id-1 div.sk-serial::before {content: \"\";position: absolute;border-left: 1px solid gray;box-sizing: border-box;top: 0;bottom: 0;left: 50%;z-index: 0;}#sk-container-id-1 div.sk-serial {display: flex;flex-direction: column;align-items: center;background-color: white;padding-right: 0.2em;padding-left: 0.2em;position: relative;}#sk-container-id-1 div.sk-item {position: relative;z-index: 1;}#sk-container-id-1 div.sk-parallel {display: flex;align-items: stretch;justify-content: center;background-color: white;position: relative;}#sk-container-id-1 div.sk-item::before, #sk-container-id-1 div.sk-parallel-item::before {content: \"\";position: absolute;border-left: 1px solid gray;box-sizing: border-box;top: 0;bottom: 0;left: 50%;z-index: -1;}#sk-container-id-1 div.sk-parallel-item {display: flex;flex-direction: column;z-index: 1;position: relative;background-color: white;}#sk-container-id-1 div.sk-parallel-item:first-child::after {align-self: flex-end;width: 50%;}#sk-container-id-1 div.sk-parallel-item:last-child::after {align-self: flex-start;width: 50%;}#sk-container-id-1 div.sk-parallel-item:only-child::after {width: 0;}#sk-container-id-1 div.sk-dashed-wrapped {border: 1px dashed gray;margin: 0 0.4em 0.5em 0.4em;box-sizing: border-box;padding-bottom: 0.4em;background-color: white;}#sk-container-id-1 div.sk-label label {font-family: monospace;font-weight: bold;display: inline-block;line-height: 1.2em;}#sk-container-id-1 div.sk-label-container {text-align: center;}#sk-container-id-1 div.sk-container {/* jupyter's `normalize.less` sets `[hidden] { display: none; }` but bootstrap.min.css set `[hidden] { display: none !important; }` so we also need the `!important` here to be able to override the default hidden behavior on the sphinx rendered scikit-learn.org. See: https://github.com/scikit-learn/scikit-learn/issues/21755 */display: inline-block !important;position: relative;}#sk-container-id-1 div.sk-text-repr-fallback {display: none;}</style><div id=\"sk-container-id-1\" class=\"sk-top-container\"><div class=\"sk-text-repr-fallback\"><pre>LogisticRegression()</pre><b>In a Jupyter environment, please rerun this cell to show the HTML representation or trust the notebook. <br />On GitHub, the HTML representation is unable to render, please try loading this page with nbviewer.org.</b></div><div class=\"sk-container\" hidden><div class=\"sk-item\"><div class=\"sk-estimator sk-toggleable\"><input class=\"sk-toggleable__control sk-hidden--visually\" id=\"sk-estimator-id-1\" type=\"checkbox\" checked><label for=\"sk-estimator-id-1\" class=\"sk-toggleable__label sk-toggleable__label-arrow\">LogisticRegression</label><div class=\"sk-toggleable__content\"><pre>LogisticRegression()</pre></div></div></div></div></div>"
            ]
          },
          "metadata": {},
          "execution_count": 24
        }
      ]
    },
    {
      "cell_type": "code",
      "source": [
        "#Realizamos una predicción\n",
        "y_pred = algoritmo.predict(X_test) \n",
        "y_pred"
      ],
      "metadata": {
        "id": "RmhkpqPufPtq",
        "colab": {
          "base_uri": "https://localhost:8080/"
        },
        "outputId": "7ef4fde6-a2fa-43d4-80fb-87c8815dc278"
      },
      "execution_count": null,
      "outputs": [
        {
          "output_type": "execute_result",
          "data": {
            "text/plain": [
              "array(['OTRAS COMPRAS', 'OTRAS COMPRAS', 'OTRAS COMPRAS', 'OTRAS COMPRAS',\n",
              "       'OTRAS COMPRAS', 'OTRAS COMPRAS', 'OTRAS COMPRAS', 'OTRAS COMPRAS',\n",
              "       'OTRAS COMPRAS', 'OTRAS COMPRAS', 'OTRAS COMPRAS', 'OTRAS COMPRAS',\n",
              "       'OTRAS COMPRAS', 'OTRAS COMPRAS', 'OTRAS COMPRAS', 'OTRAS COMPRAS',\n",
              "       'OTRAS COMPRAS', 'OTRAS COMPRAS', 'OTRAS COMPRAS', 'OTRAS COMPRAS',\n",
              "       'OTRAS COMPRAS', 'OTRAS COMPRAS', 'OTRAS COMPRAS', 'OTRAS COMPRAS',\n",
              "       'OTRAS COMPRAS', 'OTRAS COMPRAS', 'OTRAS COMPRAS', 'OTRAS COMPRAS',\n",
              "       'OTRAS COMPRAS', 'OTRAS COMPRAS', 'OTRAS COMPRAS', 'OTRAS COMPRAS',\n",
              "       'OTRAS COMPRAS', 'OTRAS COMPRAS', 'OTRAS COMPRAS', 'OTRAS COMPRAS',\n",
              "       'OTRAS COMPRAS', 'OTRAS COMPRAS', 'OTRAS COMPRAS', 'OTRAS COMPRAS',\n",
              "       'OTRAS COMPRAS', 'OTRAS COMPRAS', 'OTRAS COMPRAS', 'OTRAS COMPRAS',\n",
              "       'OTRAS COMPRAS', 'OTRAS COMPRAS', 'OTRAS COMPRAS', 'COMPRAS',\n",
              "       'OTRAS COMPRAS', 'OTRAS COMPRAS', 'OTRAS COMPRAS', 'OTRAS COMPRAS',\n",
              "       'OTRAS COMPRAS', 'OTRAS COMPRAS', 'OTRAS COMPRAS', 'OTRAS COMPRAS',\n",
              "       'OTRAS COMPRAS', 'OTRAS COMPRAS', 'OTRAS COMPRAS', 'COMPRAS',\n",
              "       'OTRAS COMPRAS', 'OTRAS COMPRAS', 'OTRAS COMPRAS', 'OTRAS COMPRAS',\n",
              "       'OTRAS COMPRAS', 'OTRAS COMPRAS', 'OTRAS COMPRAS', 'OTRAS COMPRAS',\n",
              "       'OTRAS COMPRAS', 'OTRAS COMPRAS', 'OTRAS COMPRAS', 'OTRAS COMPRAS',\n",
              "       'OTRAS COMPRAS', 'OTRAS COMPRAS', 'OTRAS COMPRAS', 'OTRAS COMPRAS',\n",
              "       'OTRAS COMPRAS', 'OTRAS COMPRAS', 'OTRAS COMPRAS', 'OTRAS COMPRAS',\n",
              "       'OTRAS COMPRAS', 'OTRAS COMPRAS', 'OTRAS COMPRAS', 'OTRAS COMPRAS',\n",
              "       'OTRAS COMPRAS', 'OTRAS COMPRAS', 'OTRAS COMPRAS', 'OTRAS COMPRAS',\n",
              "       'OTRAS COMPRAS', 'OTRAS COMPRAS', 'OTRAS COMPRAS', 'OTRAS COMPRAS',\n",
              "       'OTRAS COMPRAS', 'COMPRAS', 'OTRAS COMPRAS', 'OTRAS COMPRAS',\n",
              "       'OTRAS COMPRAS', 'OTRAS COMPRAS', 'OTRAS COMPRAS', 'OTRAS COMPRAS',\n",
              "       'OTRAS COMPRAS', 'OTRAS COMPRAS', 'OTRAS COMPRAS', 'OTRAS COMPRAS',\n",
              "       'OTRAS COMPRAS', 'OTRAS COMPRAS', 'OTRAS COMPRAS', 'OTRAS COMPRAS',\n",
              "       'OTRAS COMPRAS', 'OTRAS COMPRAS', 'OTRAS COMPRAS', 'OTRAS COMPRAS',\n",
              "       'OTRAS COMPRAS', 'OTRAS COMPRAS', 'OTRAS COMPRAS', 'OTRAS COMPRAS',\n",
              "       'OTRAS COMPRAS', 'OTRAS COMPRAS', 'OTRAS COMPRAS', 'OTRAS COMPRAS'],\n",
              "      dtype=object)"
            ]
          },
          "metadata": {},
          "execution_count": 25
        }
      ]
    },
    {
      "cell_type": "code",
      "source": [
        "#Verifico la matriz de Confusión\n",
        "from sklearn.metrics import confusion_matrix\n",
        "matriz = confusion_matrix(y_test, y_pred)\n",
        "print('Matriz de Confusión:')\n",
        "print(matriz)"
      ],
      "metadata": {
        "colab": {
          "base_uri": "https://localhost:8080/"
        },
        "id": "HcmoerMWfSgz",
        "outputId": "63c87bca-a27e-4bcf-a6fb-e79706b4df24"
      },
      "execution_count": null,
      "outputs": [
        {
          "output_type": "stream",
          "name": "stdout",
          "text": [
            "Matriz de Confusión:\n",
            "[[ 1 57]\n",
            " [ 2 60]]\n"
          ]
        }
      ]
    },
    {
      "cell_type": "code",
      "source": [
        "#Calculo la precisión del modelo\n",
        "from sklearn.metrics import precision_score\n",
        "\n",
        "precision = precision_score(y_test, y_pred, average=\"binary\", pos_label=\"COMPRAS\")\n",
        "print('Precisión del modelo:')\n",
        "print(precision)"
      ],
      "metadata": {
        "colab": {
          "base_uri": "https://localhost:8080/"
        },
        "id": "EZLYhQv9ffsZ",
        "outputId": "9a5d560f-03bb-4a8d-ff32-8f0896d2dd8a"
      },
      "execution_count": null,
      "outputs": [
        {
          "output_type": "stream",
          "name": "stdout",
          "text": [
            "Precisión del modelo:\n",
            "0.3333333333333333\n"
          ]
        }
      ]
    },
    {
      "cell_type": "code",
      "source": [
        "#Calculo la exactitud del modelo\n",
        "from sklearn.metrics import accuracy_score\n",
        "\n",
        "exactitud = accuracy_score(y_test, y_pred)\n",
        "print('Exactitud del modelo:')\n",
        "print(exactitud)"
      ],
      "metadata": {
        "colab": {
          "base_uri": "https://localhost:8080/"
        },
        "id": "JuQmoNf8gPHT",
        "outputId": "b80898ee-54fd-41b8-bac6-be9fd6eb37bd"
      },
      "execution_count": null,
      "outputs": [
        {
          "output_type": "stream",
          "name": "stdout",
          "text": [
            "Exactitud del modelo:\n",
            "0.5083333333333333\n"
          ]
        }
      ]
    },
    {
      "cell_type": "code",
      "source": [
        "#Calculo la sensibilidad del modelo\n",
        "from sklearn.metrics import recall_score\n",
        "\n",
        "sensibilidad = recall_score(y_test, y_pred, average=\"binary\", pos_label=\"COMPRAS\")\n",
        "print('Sensibilidad del modelo:')\n",
        "print(sensibilidad)"
      ],
      "metadata": {
        "colab": {
          "base_uri": "https://localhost:8080/"
        },
        "id": "2ROKMocYgRNb",
        "outputId": "74a57e4b-b031-4ec9-9bdd-0ee3f0a03593"
      },
      "execution_count": null,
      "outputs": [
        {
          "output_type": "stream",
          "name": "stdout",
          "text": [
            "Sensibilidad del modelo:\n",
            "0.017241379310344827\n"
          ]
        }
      ]
    },
    {
      "cell_type": "code",
      "source": [
        "# el puntaje F1 que es una combinación entre la precisión y la sensibilidad, para esto importamos f1_score.\n",
        "#Calculo el Puntaje F1 del modelo\n",
        "from sklearn.metrics import f1_score\n",
        "\n",
        "puntajef1 = f1_score(y_test, y_pred, average=\"binary\", pos_label=\"COMPRAS\")\n",
        "print('Puntaje F1 del modelo:')\n",
        "print(puntajef1)"
      ],
      "metadata": {
        "colab": {
          "base_uri": "https://localhost:8080/"
        },
        "id": "dpVw7tZ1gUja",
        "outputId": "617713fd-1bcf-4772-d6c2-bba4b2fc9a53"
      },
      "execution_count": null,
      "outputs": [
        {
          "output_type": "stream",
          "name": "stdout",
          "text": [
            "Puntaje F1 del modelo:\n",
            "0.03278688524590164\n"
          ]
        }
      ]
    },
    {
      "cell_type": "markdown",
      "source": [
        "**Reemplazar valores**"
      ],
      "metadata": {
        "id": "nG2MFCcr1Mv6"
      }
    },
    {
      "cell_type": "code",
      "source": [
        "#Verificar los valores sin repetirse de una columna\n",
        "unico = np.unique(df['class'])\n",
        "unico"
      ],
      "metadata": {
        "colab": {
          "base_uri": "https://localhost:8080/"
        },
        "id": "Yoy5BqFQ1LdC",
        "outputId": "b8c50c6b-b890-4001-f394-8c2a19cea34b"
      },
      "execution_count": null,
      "outputs": [
        {
          "output_type": "execute_result",
          "data": {
            "text/plain": [
              "array(['First', 'Second', 'Third'], dtype=object)"
            ]
          },
          "metadata": {},
          "execution_count": 17
        }
      ]
    }
  ]
}