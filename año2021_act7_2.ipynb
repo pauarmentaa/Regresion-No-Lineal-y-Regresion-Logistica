{
  "nbformat": 4,
  "nbformat_minor": 0,
  "metadata": {
    "colab": {
      "provenance": [],
      "include_colab_link": true
    },
    "kernelspec": {
      "name": "python3",
      "display_name": "Python 3"
    },
    "language_info": {
      "name": "python"
    }
  },
  "cells": [
    {
      "cell_type": "markdown",
      "metadata": {
        "id": "view-in-github",
        "colab_type": "text"
      },
      "source": [
        "<a href=\"https://colab.research.google.com/github/pauarmentaa/Regresion-No-Lineal-y-Regresion-Logistica/blob/main/a%C3%B1o2021_act7_2.ipynb\" target=\"_parent\"><img src=\"https://colab.research.google.com/assets/colab-badge.svg\" alt=\"Open In Colab\"/></a>"
      ]
    },
    {
      "cell_type": "markdown",
      "source": [
        "# Actividad 7.2 Regresión Logística"
      ],
      "metadata": {
        "id": "oTImTznBRdeL"
      }
    },
    {
      "cell_type": "code",
      "execution_count": null,
      "metadata": {
        "id": "wUekzxMTRIGJ"
      },
      "outputs": [],
      "source": [
        "#Cargamos librerias\n",
        "import pandas as pd\n",
        "import numpy as np\n",
        "import matplotlib.pyplot as plt\n",
        "import scipy.special as special\n",
        "from scipy.optimize import curve_fit\n",
        "import seaborn as sns\n",
        "from sklearn.metrics import r2_score\n",
        "from sklearn.model_selection import train_test_split\n",
        "from sklearn.preprocessing import StandardScaler"
      ]
    },
    {
      "cell_type": "code",
      "source": [
        "gastos = pd.read_csv(\"Gastos_costos_2021.csv\")"
      ],
      "metadata": {
        "id": "UzcXl4fqSB8J"
      },
      "execution_count": null,
      "outputs": []
    },
    {
      "cell_type": "code",
      "source": [
        "gastos[\"TIPO GASTO\"].value_counts().sum()"
      ],
      "metadata": {
        "colab": {
          "base_uri": "https://localhost:8080/"
        },
        "id": "CmKsh_tISPPp",
        "outputId": "ad618480-67b0-41e2-f016-1ab0a0ac7d2d"
      },
      "execution_count": null,
      "outputs": [
        {
          "output_type": "execute_result",
          "data": {
            "text/plain": [
              "3035"
            ]
          },
          "metadata": {},
          "execution_count": 47
        }
      ]
    },
    {
      "cell_type": "code",
      "source": [
        "# Transformación dicotómica\n",
        "# Creamos la nueva columna utilizando apply() y una función lambda\n",
        "# Creamos la nueva columna utilizando str.contains()\n",
        "gastos['TIPO_GASTO_D'] = np.where(gastos['TIPO GASTO'].str.contains('COMPRAS'), 'COMPRAS', 'OTROS GASTOS')\n",
        "gastos"
      ],
      "metadata": {
        "colab": {
          "base_uri": "https://localhost:8080/",
          "height": 711
        },
        "id": "7V-qNsiDSpcC",
        "outputId": "75633b93-f2a9-4f5b-f934-0a0e82fd6229"
      },
      "execution_count": null,
      "outputs": [
        {
          "output_type": "execute_result",
          "data": {
            "text/plain": [
              "      Unnamed: 0       FECHA                   FOLIO  \\\n",
              "0              0  2021-01-01  0001010100750847116902   \n",
              "1              1  2021-01-01  0001010100752163714102   \n",
              "2              2  2021-01-01                   19788   \n",
              "3              3  2021-01-01                  211781   \n",
              "4              4  2021-01-01                  211782   \n",
              "...          ...         ...                     ...   \n",
              "3030        3030  2021-12-01                  127043   \n",
              "3031        3031  2021-12-01                   11740   \n",
              "3032        3032  2021-12-01              1092957089   \n",
              "3033        3033  2021-12-01                  747826   \n",
              "3034        3034  2021-12-01                 1227374   \n",
              "\n",
              "                                              PROVEEDOR  \\\n",
              "0                        BANCO NACIONAL DE MEXICO, S.A.   \n",
              "1                        BANCO NACIONAL DE MEXICO, S.A.   \n",
              "2                ELECTRONICOS Y SIMILARES, S.A. DE C.V.   \n",
              "3                          BEPENSA LEASING S.A. DE C.V.   \n",
              "4                          BEPENSA LEASING S.A. DE C.V.   \n",
              "...                                                 ...   \n",
              "3030       PROMOCIONES GRAFICAS MEXICANAS, S.A. DE C.V.   \n",
              "3031                      SPECTRIS MEXICO S DE RL DE CV   \n",
              "3032  BANCO MERCANTIL DEL NORTE SA INSTITUCION DE BA...   \n",
              "3033  BANCO INVEX, S.A., INSTITUCION DE BANCA MULTIP...   \n",
              "3034                      EFECTIVALE S. de R.L. de C.V.   \n",
              "\n",
              "                                            DESCRIPCION  \\\n",
              "0                                      COMISION COBRADA   \n",
              "1                                      COMISION COBRADA   \n",
              "2                           MOTO E7 PLUS AZUL 64GB 4RAM   \n",
              "3     AA RENTA EXIGIBLE CL0000006876 6/36 de 03/12/2...   \n",
              "4     AA RENTA EXIGIBLE CL0000006877 6/36 de 03/12/2...   \n",
              "...                                                 ...   \n",
              "3030                                               Pago   \n",
              "3031                                 INSULATED T/C WIRE   \n",
              "3032                                SERVICIOS BANCARIOS   \n",
              "3033                             COMISIONES E INTERESES   \n",
              "3034  CONSUMOS DE COMBUSTIBLE DE MONEDEROS ELECTRONICOS   \n",
              "\n",
              "                    TIPO GASTO   IMPORTE     IVA  TOTAL MX  TIPO_GASTO_D  \n",
              "0            COMISION BANCARIA    490.00   78.40    568.40  OTROS GASTOS  \n",
              "1            COMISION BANCARIA    345.00   55.20    400.20  OTROS GASTOS  \n",
              "2                      COMPRAS   3447.41  551.59   3999.00       COMPRAS  \n",
              "3     ARRENDAMIENTO FINANCIERO   5551.38  888.22   6439.60  OTROS GASTOS  \n",
              "4     ARRENDAMIENTO FINANCIERO   5551.98  888.32   6440.30  OTROS GASTOS  \n",
              "...                        ...       ...     ...       ...           ...  \n",
              "3030                PUBLICIDAD      0.00    0.00      0.00  OTROS GASTOS  \n",
              "3031                  COMPRAS       0.00    0.00      0.00       COMPRAS  \n",
              "3032         COMISION BANCARIA  22826.46  705.58  23532.04  OTROS GASTOS  \n",
              "3033         COMISION BANCARIA      0.00    0.00      0.00  OTROS GASTOS  \n",
              "3034                  GASOLINA  15656.15    0.00  15656.15  OTROS GASTOS  \n",
              "\n",
              "[3035 rows x 10 columns]"
            ],
            "text/html": [
              "\n",
              "  <div id=\"df-f5baa88f-d6c7-42f8-b78d-152022fbbf0c\">\n",
              "    <div class=\"colab-df-container\">\n",
              "      <div>\n",
              "<style scoped>\n",
              "    .dataframe tbody tr th:only-of-type {\n",
              "        vertical-align: middle;\n",
              "    }\n",
              "\n",
              "    .dataframe tbody tr th {\n",
              "        vertical-align: top;\n",
              "    }\n",
              "\n",
              "    .dataframe thead th {\n",
              "        text-align: right;\n",
              "    }\n",
              "</style>\n",
              "<table border=\"1\" class=\"dataframe\">\n",
              "  <thead>\n",
              "    <tr style=\"text-align: right;\">\n",
              "      <th></th>\n",
              "      <th>Unnamed: 0</th>\n",
              "      <th>FECHA</th>\n",
              "      <th>FOLIO</th>\n",
              "      <th>PROVEEDOR</th>\n",
              "      <th>DESCRIPCION</th>\n",
              "      <th>TIPO GASTO</th>\n",
              "      <th>IMPORTE</th>\n",
              "      <th>IVA</th>\n",
              "      <th>TOTAL MX</th>\n",
              "      <th>TIPO_GASTO_D</th>\n",
              "    </tr>\n",
              "  </thead>\n",
              "  <tbody>\n",
              "    <tr>\n",
              "      <th>0</th>\n",
              "      <td>0</td>\n",
              "      <td>2021-01-01</td>\n",
              "      <td>0001010100750847116902</td>\n",
              "      <td>BANCO NACIONAL DE MEXICO, S.A.</td>\n",
              "      <td>COMISION COBRADA</td>\n",
              "      <td>COMISION BANCARIA</td>\n",
              "      <td>490.00</td>\n",
              "      <td>78.40</td>\n",
              "      <td>568.40</td>\n",
              "      <td>OTROS GASTOS</td>\n",
              "    </tr>\n",
              "    <tr>\n",
              "      <th>1</th>\n",
              "      <td>1</td>\n",
              "      <td>2021-01-01</td>\n",
              "      <td>0001010100752163714102</td>\n",
              "      <td>BANCO NACIONAL DE MEXICO, S.A.</td>\n",
              "      <td>COMISION COBRADA</td>\n",
              "      <td>COMISION BANCARIA</td>\n",
              "      <td>345.00</td>\n",
              "      <td>55.20</td>\n",
              "      <td>400.20</td>\n",
              "      <td>OTROS GASTOS</td>\n",
              "    </tr>\n",
              "    <tr>\n",
              "      <th>2</th>\n",
              "      <td>2</td>\n",
              "      <td>2021-01-01</td>\n",
              "      <td>19788</td>\n",
              "      <td>ELECTRONICOS Y SIMILARES, S.A. DE C.V.</td>\n",
              "      <td>MOTO E7 PLUS AZUL 64GB 4RAM</td>\n",
              "      <td>COMPRAS</td>\n",
              "      <td>3447.41</td>\n",
              "      <td>551.59</td>\n",
              "      <td>3999.00</td>\n",
              "      <td>COMPRAS</td>\n",
              "    </tr>\n",
              "    <tr>\n",
              "      <th>3</th>\n",
              "      <td>3</td>\n",
              "      <td>2021-01-01</td>\n",
              "      <td>211781</td>\n",
              "      <td>BEPENSA LEASING S.A. DE C.V.</td>\n",
              "      <td>AA RENTA EXIGIBLE CL0000006876 6/36 de 03/12/2...</td>\n",
              "      <td>ARRENDAMIENTO FINANCIERO</td>\n",
              "      <td>5551.38</td>\n",
              "      <td>888.22</td>\n",
              "      <td>6439.60</td>\n",
              "      <td>OTROS GASTOS</td>\n",
              "    </tr>\n",
              "    <tr>\n",
              "      <th>4</th>\n",
              "      <td>4</td>\n",
              "      <td>2021-01-01</td>\n",
              "      <td>211782</td>\n",
              "      <td>BEPENSA LEASING S.A. DE C.V.</td>\n",
              "      <td>AA RENTA EXIGIBLE CL0000006877 6/36 de 03/12/2...</td>\n",
              "      <td>ARRENDAMIENTO FINANCIERO</td>\n",
              "      <td>5551.98</td>\n",
              "      <td>888.32</td>\n",
              "      <td>6440.30</td>\n",
              "      <td>OTROS GASTOS</td>\n",
              "    </tr>\n",
              "    <tr>\n",
              "      <th>...</th>\n",
              "      <td>...</td>\n",
              "      <td>...</td>\n",
              "      <td>...</td>\n",
              "      <td>...</td>\n",
              "      <td>...</td>\n",
              "      <td>...</td>\n",
              "      <td>...</td>\n",
              "      <td>...</td>\n",
              "      <td>...</td>\n",
              "      <td>...</td>\n",
              "    </tr>\n",
              "    <tr>\n",
              "      <th>3030</th>\n",
              "      <td>3030</td>\n",
              "      <td>2021-12-01</td>\n",
              "      <td>127043</td>\n",
              "      <td>PROMOCIONES GRAFICAS MEXICANAS, S.A. DE C.V.</td>\n",
              "      <td>Pago</td>\n",
              "      <td>PUBLICIDAD</td>\n",
              "      <td>0.00</td>\n",
              "      <td>0.00</td>\n",
              "      <td>0.00</td>\n",
              "      <td>OTROS GASTOS</td>\n",
              "    </tr>\n",
              "    <tr>\n",
              "      <th>3031</th>\n",
              "      <td>3031</td>\n",
              "      <td>2021-12-01</td>\n",
              "      <td>11740</td>\n",
              "      <td>SPECTRIS MEXICO S DE RL DE CV</td>\n",
              "      <td>INSULATED T/C WIRE</td>\n",
              "      <td>COMPRAS</td>\n",
              "      <td>0.00</td>\n",
              "      <td>0.00</td>\n",
              "      <td>0.00</td>\n",
              "      <td>COMPRAS</td>\n",
              "    </tr>\n",
              "    <tr>\n",
              "      <th>3032</th>\n",
              "      <td>3032</td>\n",
              "      <td>2021-12-01</td>\n",
              "      <td>1092957089</td>\n",
              "      <td>BANCO MERCANTIL DEL NORTE SA INSTITUCION DE BA...</td>\n",
              "      <td>SERVICIOS BANCARIOS</td>\n",
              "      <td>COMISION BANCARIA</td>\n",
              "      <td>22826.46</td>\n",
              "      <td>705.58</td>\n",
              "      <td>23532.04</td>\n",
              "      <td>OTROS GASTOS</td>\n",
              "    </tr>\n",
              "    <tr>\n",
              "      <th>3033</th>\n",
              "      <td>3033</td>\n",
              "      <td>2021-12-01</td>\n",
              "      <td>747826</td>\n",
              "      <td>BANCO INVEX, S.A., INSTITUCION DE BANCA MULTIP...</td>\n",
              "      <td>COMISIONES E INTERESES</td>\n",
              "      <td>COMISION BANCARIA</td>\n",
              "      <td>0.00</td>\n",
              "      <td>0.00</td>\n",
              "      <td>0.00</td>\n",
              "      <td>OTROS GASTOS</td>\n",
              "    </tr>\n",
              "    <tr>\n",
              "      <th>3034</th>\n",
              "      <td>3034</td>\n",
              "      <td>2021-12-01</td>\n",
              "      <td>1227374</td>\n",
              "      <td>EFECTIVALE S. de R.L. de C.V.</td>\n",
              "      <td>CONSUMOS DE COMBUSTIBLE DE MONEDEROS ELECTRONICOS</td>\n",
              "      <td>GASOLINA</td>\n",
              "      <td>15656.15</td>\n",
              "      <td>0.00</td>\n",
              "      <td>15656.15</td>\n",
              "      <td>OTROS GASTOS</td>\n",
              "    </tr>\n",
              "  </tbody>\n",
              "</table>\n",
              "<p>3035 rows × 10 columns</p>\n",
              "</div>\n",
              "      <button class=\"colab-df-convert\" onclick=\"convertToInteractive('df-f5baa88f-d6c7-42f8-b78d-152022fbbf0c')\"\n",
              "              title=\"Convert this dataframe to an interactive table.\"\n",
              "              style=\"display:none;\">\n",
              "        \n",
              "  <svg xmlns=\"http://www.w3.org/2000/svg\" height=\"24px\"viewBox=\"0 0 24 24\"\n",
              "       width=\"24px\">\n",
              "    <path d=\"M0 0h24v24H0V0z\" fill=\"none\"/>\n",
              "    <path d=\"M18.56 5.44l.94 2.06.94-2.06 2.06-.94-2.06-.94-.94-2.06-.94 2.06-2.06.94zm-11 1L8.5 8.5l.94-2.06 2.06-.94-2.06-.94L8.5 2.5l-.94 2.06-2.06.94zm10 10l.94 2.06.94-2.06 2.06-.94-2.06-.94-.94-2.06-.94 2.06-2.06.94z\"/><path d=\"M17.41 7.96l-1.37-1.37c-.4-.4-.92-.59-1.43-.59-.52 0-1.04.2-1.43.59L10.3 9.45l-7.72 7.72c-.78.78-.78 2.05 0 2.83L4 21.41c.39.39.9.59 1.41.59.51 0 1.02-.2 1.41-.59l7.78-7.78 2.81-2.81c.8-.78.8-2.07 0-2.86zM5.41 20L4 18.59l7.72-7.72 1.47 1.35L5.41 20z\"/>\n",
              "  </svg>\n",
              "      </button>\n",
              "      \n",
              "  <style>\n",
              "    .colab-df-container {\n",
              "      display:flex;\n",
              "      flex-wrap:wrap;\n",
              "      gap: 12px;\n",
              "    }\n",
              "\n",
              "    .colab-df-convert {\n",
              "      background-color: #E8F0FE;\n",
              "      border: none;\n",
              "      border-radius: 50%;\n",
              "      cursor: pointer;\n",
              "      display: none;\n",
              "      fill: #1967D2;\n",
              "      height: 32px;\n",
              "      padding: 0 0 0 0;\n",
              "      width: 32px;\n",
              "    }\n",
              "\n",
              "    .colab-df-convert:hover {\n",
              "      background-color: #E2EBFA;\n",
              "      box-shadow: 0px 1px 2px rgba(60, 64, 67, 0.3), 0px 1px 3px 1px rgba(60, 64, 67, 0.15);\n",
              "      fill: #174EA6;\n",
              "    }\n",
              "\n",
              "    [theme=dark] .colab-df-convert {\n",
              "      background-color: #3B4455;\n",
              "      fill: #D2E3FC;\n",
              "    }\n",
              "\n",
              "    [theme=dark] .colab-df-convert:hover {\n",
              "      background-color: #434B5C;\n",
              "      box-shadow: 0px 1px 3px 1px rgba(0, 0, 0, 0.15);\n",
              "      filter: drop-shadow(0px 1px 2px rgba(0, 0, 0, 0.3));\n",
              "      fill: #FFFFFF;\n",
              "    }\n",
              "  </style>\n",
              "\n",
              "      <script>\n",
              "        const buttonEl =\n",
              "          document.querySelector('#df-f5baa88f-d6c7-42f8-b78d-152022fbbf0c button.colab-df-convert');\n",
              "        buttonEl.style.display =\n",
              "          google.colab.kernel.accessAllowed ? 'block' : 'none';\n",
              "\n",
              "        async function convertToInteractive(key) {\n",
              "          const element = document.querySelector('#df-f5baa88f-d6c7-42f8-b78d-152022fbbf0c');\n",
              "          const dataTable =\n",
              "            await google.colab.kernel.invokeFunction('convertToInteractive',\n",
              "                                                     [key], {});\n",
              "          if (!dataTable) return;\n",
              "\n",
              "          const docLinkHtml = 'Like what you see? Visit the ' +\n",
              "            '<a target=\"_blank\" href=https://colab.research.google.com/notebooks/data_table.ipynb>data table notebook</a>'\n",
              "            + ' to learn more about interactive tables.';\n",
              "          element.innerHTML = '';\n",
              "          dataTable['output_type'] = 'display_data';\n",
              "          await google.colab.output.renderOutput(dataTable, element);\n",
              "          const docLink = document.createElement('div');\n",
              "          docLink.innerHTML = docLinkHtml;\n",
              "          element.appendChild(docLink);\n",
              "        }\n",
              "      </script>\n",
              "    </div>\n",
              "  </div>\n",
              "  "
            ]
          },
          "metadata": {},
          "execution_count": 29
        }
      ]
    },
    {
      "cell_type": "code",
      "source": [
        "# Comprobamos la sustitución exitosa\n",
        "gastos[\"TIPO_GASTO_D\"].value_counts()"
      ],
      "metadata": {
        "colab": {
          "base_uri": "https://localhost:8080/"
        },
        "id": "YE7T1S6FV8Px",
        "outputId": "0110cc40-2f6e-47b0-8d2c-543f45eace7b"
      },
      "execution_count": null,
      "outputs": [
        {
          "output_type": "execute_result",
          "data": {
            "text/plain": [
              "COMPRAS         1531\n",
              "OTROS GASTOS    1504\n",
              "Name: TIPO_GASTO_D, dtype: int64"
            ]
          },
          "metadata": {},
          "execution_count": 48
        }
      ]
    },
    {
      "cell_type": "code",
      "source": [
        "#Declaramos las variables dependientes e independientes para la regresión Logística\n",
        "Vars_Indep= gastos[[\"TOTAL MX\"]]\n",
        "Var_Dep= gastos['TIPO_GASTO_D']"
      ],
      "metadata": {
        "id": "Luf2pEEVT6AD"
      },
      "execution_count": null,
      "outputs": []
    },
    {
      "cell_type": "code",
      "source": [
        "#Redefinimos las variables \n",
        "X= Vars_Indep\n",
        "y= Var_Dep"
      ],
      "metadata": {
        "id": "iQp4t-wMWH1d"
      },
      "execution_count": null,
      "outputs": []
    },
    {
      "cell_type": "code",
      "source": [
        "#Dividimos el conjunto de datos en la parte de entrenamiento y prueba:\n",
        "X_train, X_test, y_train, y_test = train_test_split(X, y, test_size=0.3, random_state =None)"
      ],
      "metadata": {
        "id": "5dMf-hbKWKLY"
      },
      "execution_count": null,
      "outputs": []
    },
    {
      "cell_type": "code",
      "source": [
        "#Se escalan todos los datos\n",
        "escalar = StandardScaler()\n",
        "#Para realizar el escalamiento de las variables “X” tanto de entrenamiento como de prueba, utilizaremos fit_transform\n",
        "X_train = escalar.fit_transform(X_train)\n",
        "X_test = escalar.transform(X_test)"
      ],
      "metadata": {
        "id": "X0s4ErT8WN83"
      },
      "execution_count": null,
      "outputs": []
    },
    {
      "cell_type": "code",
      "source": [
        "#Definimos el algoritmo a utilizar\n",
        "from sklearn.linear_model import LogisticRegression\n",
        "algoritmo = LogisticRegression()"
      ],
      "metadata": {
        "id": "CW8kqhwxWRuG"
      },
      "execution_count": null,
      "outputs": []
    },
    {
      "cell_type": "code",
      "source": [
        "#Entrenamos el modelo\n",
        "algoritmo.fit(X_train, y_train)"
      ],
      "metadata": {
        "colab": {
          "base_uri": "https://localhost:8080/",
          "height": 75
        },
        "id": "jJlV-qLBWgy_",
        "outputId": "bef0408f-af2d-4d7b-de58-8469d5b78a8a"
      },
      "execution_count": null,
      "outputs": [
        {
          "output_type": "execute_result",
          "data": {
            "text/plain": [
              "LogisticRegression()"
            ],
            "text/html": [
              "<style>#sk-container-id-1 {color: black;background-color: white;}#sk-container-id-1 pre{padding: 0;}#sk-container-id-1 div.sk-toggleable {background-color: white;}#sk-container-id-1 label.sk-toggleable__label {cursor: pointer;display: block;width: 100%;margin-bottom: 0;padding: 0.3em;box-sizing: border-box;text-align: center;}#sk-container-id-1 label.sk-toggleable__label-arrow:before {content: \"▸\";float: left;margin-right: 0.25em;color: #696969;}#sk-container-id-1 label.sk-toggleable__label-arrow:hover:before {color: black;}#sk-container-id-1 div.sk-estimator:hover label.sk-toggleable__label-arrow:before {color: black;}#sk-container-id-1 div.sk-toggleable__content {max-height: 0;max-width: 0;overflow: hidden;text-align: left;background-color: #f0f8ff;}#sk-container-id-1 div.sk-toggleable__content pre {margin: 0.2em;color: black;border-radius: 0.25em;background-color: #f0f8ff;}#sk-container-id-1 input.sk-toggleable__control:checked~div.sk-toggleable__content {max-height: 200px;max-width: 100%;overflow: auto;}#sk-container-id-1 input.sk-toggleable__control:checked~label.sk-toggleable__label-arrow:before {content: \"▾\";}#sk-container-id-1 div.sk-estimator input.sk-toggleable__control:checked~label.sk-toggleable__label {background-color: #d4ebff;}#sk-container-id-1 div.sk-label input.sk-toggleable__control:checked~label.sk-toggleable__label {background-color: #d4ebff;}#sk-container-id-1 input.sk-hidden--visually {border: 0;clip: rect(1px 1px 1px 1px);clip: rect(1px, 1px, 1px, 1px);height: 1px;margin: -1px;overflow: hidden;padding: 0;position: absolute;width: 1px;}#sk-container-id-1 div.sk-estimator {font-family: monospace;background-color: #f0f8ff;border: 1px dotted black;border-radius: 0.25em;box-sizing: border-box;margin-bottom: 0.5em;}#sk-container-id-1 div.sk-estimator:hover {background-color: #d4ebff;}#sk-container-id-1 div.sk-parallel-item::after {content: \"\";width: 100%;border-bottom: 1px solid gray;flex-grow: 1;}#sk-container-id-1 div.sk-label:hover label.sk-toggleable__label {background-color: #d4ebff;}#sk-container-id-1 div.sk-serial::before {content: \"\";position: absolute;border-left: 1px solid gray;box-sizing: border-box;top: 0;bottom: 0;left: 50%;z-index: 0;}#sk-container-id-1 div.sk-serial {display: flex;flex-direction: column;align-items: center;background-color: white;padding-right: 0.2em;padding-left: 0.2em;position: relative;}#sk-container-id-1 div.sk-item {position: relative;z-index: 1;}#sk-container-id-1 div.sk-parallel {display: flex;align-items: stretch;justify-content: center;background-color: white;position: relative;}#sk-container-id-1 div.sk-item::before, #sk-container-id-1 div.sk-parallel-item::before {content: \"\";position: absolute;border-left: 1px solid gray;box-sizing: border-box;top: 0;bottom: 0;left: 50%;z-index: -1;}#sk-container-id-1 div.sk-parallel-item {display: flex;flex-direction: column;z-index: 1;position: relative;background-color: white;}#sk-container-id-1 div.sk-parallel-item:first-child::after {align-self: flex-end;width: 50%;}#sk-container-id-1 div.sk-parallel-item:last-child::after {align-self: flex-start;width: 50%;}#sk-container-id-1 div.sk-parallel-item:only-child::after {width: 0;}#sk-container-id-1 div.sk-dashed-wrapped {border: 1px dashed gray;margin: 0 0.4em 0.5em 0.4em;box-sizing: border-box;padding-bottom: 0.4em;background-color: white;}#sk-container-id-1 div.sk-label label {font-family: monospace;font-weight: bold;display: inline-block;line-height: 1.2em;}#sk-container-id-1 div.sk-label-container {text-align: center;}#sk-container-id-1 div.sk-container {/* jupyter's `normalize.less` sets `[hidden] { display: none; }` but bootstrap.min.css set `[hidden] { display: none !important; }` so we also need the `!important` here to be able to override the default hidden behavior on the sphinx rendered scikit-learn.org. See: https://github.com/scikit-learn/scikit-learn/issues/21755 */display: inline-block !important;position: relative;}#sk-container-id-1 div.sk-text-repr-fallback {display: none;}</style><div id=\"sk-container-id-1\" class=\"sk-top-container\"><div class=\"sk-text-repr-fallback\"><pre>LogisticRegression()</pre><b>In a Jupyter environment, please rerun this cell to show the HTML representation or trust the notebook. <br />On GitHub, the HTML representation is unable to render, please try loading this page with nbviewer.org.</b></div><div class=\"sk-container\" hidden><div class=\"sk-item\"><div class=\"sk-estimator sk-toggleable\"><input class=\"sk-toggleable__control sk-hidden--visually\" id=\"sk-estimator-id-1\" type=\"checkbox\" checked><label for=\"sk-estimator-id-1\" class=\"sk-toggleable__label sk-toggleable__label-arrow\">LogisticRegression</label><div class=\"sk-toggleable__content\"><pre>LogisticRegression()</pre></div></div></div></div></div>"
            ]
          },
          "metadata": {},
          "execution_count": 36
        }
      ]
    },
    {
      "cell_type": "code",
      "source": [
        "#Realizamos una predicción\n",
        "y_pred = algoritmo.predict(X_test) \n",
        "y_pred"
      ],
      "metadata": {
        "id": "J1ebi6ytWish"
      },
      "execution_count": null,
      "outputs": []
    },
    {
      "cell_type": "code",
      "source": [
        "#Verifico la matriz de Confusión\n",
        "from sklearn.metrics import confusion_matrix\n",
        "matriz = confusion_matrix(y_test, y_pred)\n",
        "print('Matriz de Confusión:')\n",
        "print(matriz)"
      ],
      "metadata": {
        "colab": {
          "base_uri": "https://localhost:8080/"
        },
        "id": "_Pj7U-OTWlSn",
        "outputId": "737f3f21-3fca-4e3d-ade7-24ec2ad7b3b8"
      },
      "execution_count": null,
      "outputs": [
        {
          "output_type": "stream",
          "name": "stdout",
          "text": [
            "Matriz de Confusión:\n",
            "[[362  97]\n",
            " [338 114]]\n"
          ]
        }
      ]
    },
    {
      "cell_type": "code",
      "source": [
        "#Calculo la precisión del modelo\n",
        "from sklearn.metrics import precision_score\n",
        "\n",
        "precision = precision_score(y_test, y_pred, average=\"binary\", pos_label=\"COMPRAS\")\n",
        "print('Precisión del modelo:')\n",
        "print(precision)"
      ],
      "metadata": {
        "colab": {
          "base_uri": "https://localhost:8080/"
        },
        "id": "gDZeMvThWocr",
        "outputId": "ca501c5e-1e5c-4bc9-efb9-92a6d005e55a"
      },
      "execution_count": null,
      "outputs": [
        {
          "output_type": "stream",
          "name": "stdout",
          "text": [
            "Precisión del modelo:\n",
            "0.5171428571428571\n"
          ]
        }
      ]
    },
    {
      "cell_type": "code",
      "source": [
        "#Calculo la exactitud del modelo\n",
        "from sklearn.metrics import accuracy_score\n",
        "\n",
        "exactitud = accuracy_score(y_test, y_pred)\n",
        "print('Exactitud del modelo:')\n",
        "print(exactitud)"
      ],
      "metadata": {
        "colab": {
          "base_uri": "https://localhost:8080/"
        },
        "id": "R3_EVuiIXGQT",
        "outputId": "7a8aa9f5-eb3e-4432-a658-d35c1c65b71a"
      },
      "execution_count": null,
      "outputs": [
        {
          "output_type": "stream",
          "name": "stdout",
          "text": [
            "Exactitud del modelo:\n",
            "0.5225027442371021\n"
          ]
        }
      ]
    },
    {
      "cell_type": "code",
      "source": [
        "#Calculo la sensibilidad del modelo\n",
        "from sklearn.metrics import recall_score\n",
        "\n",
        "sensibilidad = recall_score(y_test, y_pred, average=\"binary\", pos_label=\"COMPRAS\")\n",
        "print('Sensibilidad del modelo:')\n",
        "print(sensibilidad)"
      ],
      "metadata": {
        "colab": {
          "base_uri": "https://localhost:8080/"
        },
        "id": "GtQrA9cmWw1t",
        "outputId": "85a7c2db-0ed3-4263-a5f1-7cdba7a4e7cc"
      },
      "execution_count": null,
      "outputs": [
        {
          "output_type": "stream",
          "name": "stdout",
          "text": [
            "Sensibilidad del modelo:\n",
            "0.7886710239651417\n"
          ]
        }
      ]
    },
    {
      "cell_type": "code",
      "source": [
        "# el puntaje F1 que es una combinación entre la precisión y la sensibilidad, para esto importamos f1_score.\n",
        "#Calculo el Puntaje F1 del modelo\n",
        "from sklearn.metrics import f1_score\n",
        "\n",
        "puntajef1 = f1_score(y_test, y_pred, average=\"binary\", pos_label=\"COMPRAS\")\n",
        "print('Puntaje F1 del modelo:')\n",
        "print(puntajef1)"
      ],
      "metadata": {
        "colab": {
          "base_uri": "https://localhost:8080/"
        },
        "id": "56zbsh-WWz9Y",
        "outputId": "2fb7fb7d-2d85-4b8e-e01c-ae5ede5c1c77"
      },
      "execution_count": null,
      "outputs": [
        {
          "output_type": "stream",
          "name": "stdout",
          "text": [
            "Puntaje F1 del modelo:\n",
            "0.6246764452113892\n"
          ]
        }
      ]
    }
  ]
}