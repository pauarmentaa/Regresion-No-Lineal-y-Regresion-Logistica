{
  "nbformat": 4,
  "nbformat_minor": 0,
  "metadata": {
    "colab": {
      "provenance": [],
      "include_colab_link": true
    },
    "kernelspec": {
      "name": "python3",
      "display_name": "Python 3"
    },
    "language_info": {
      "name": "python"
    }
  },
  "cells": [
    {
      "cell_type": "markdown",
      "metadata": {
        "id": "view-in-github",
        "colab_type": "text"
      },
      "source": [
        "<a href=\"https://colab.research.google.com/github/pauarmentaa/Regresion-No-Lineal-y-Regresion-Logistica/blob/main/a%C3%B1o2020_act7_2.ipynb\" target=\"_parent\"><img src=\"https://colab.research.google.com/assets/colab-badge.svg\" alt=\"Open In Colab\"/></a>"
      ]
    },
    {
      "cell_type": "code",
      "execution_count": null,
      "metadata": {
        "id": "38EWRjuebp99"
      },
      "outputs": [],
      "source": [
        "#Cargamos librerias\n",
        "import pandas as pd\n",
        "import numpy as np\n",
        "import matplotlib.pyplot as plt\n",
        "import scipy.special as special\n",
        "from scipy.optimize import curve_fit\n",
        "import seaborn as sns\n",
        "from sklearn.metrics import r2_score\n",
        "from sklearn.model_selection import train_test_split\n",
        "from sklearn.preprocessing import StandardScaler"
      ]
    },
    {
      "cell_type": "code",
      "source": [
        "#Cargar archivo csv desde seaborn\n",
        "df = pd.read_csv(\"Gastos_costos_2020.csv\")\n",
        "df"
      ],
      "metadata": {
        "id": "dUTL3f-ucVrR",
        "colab": {
          "base_uri": "https://localhost:8080/",
          "height": 658
        },
        "outputId": "0b8be1e2-91cd-4ac5-860f-2c2f5df6846f"
      },
      "execution_count": null,
      "outputs": [
        {
          "output_type": "execute_result",
          "data": {
            "text/plain": [
              "      Unnamed: 0       FECHA                   FOLIO  \\\n",
              "0              0  2020-01-01                   39408   \n",
              "1              1  2020-01-01  0001010100750847116902   \n",
              "2              2  2020-01-01  0001010100752163714102   \n",
              "3              3  2020-01-01                    3663   \n",
              "4              4  2020-01-01                    2849   \n",
              "...          ...         ...                     ...   \n",
              "3337        3337  2020-12-01                  125834   \n",
              "3338        3338  2020-12-01                   37652   \n",
              "3339        3339  2020-12-01                     160   \n",
              "3340        3340  2020-12-01                  634875   \n",
              "3341        3341  2020-12-01                 1044477   \n",
              "\n",
              "                                              PROVEEDOR  \\\n",
              "0                                   ARSI RENTA SA DE CV   \n",
              "1                        BANCO NACIONAL DE MEXICO, S.A.   \n",
              "2                        BANCO NACIONAL DE MEXICO, S.A.   \n",
              "3     PROMOTORA DE SERVICIOS Y SOLUCIONES EMPRESARIA...   \n",
              "4                      ELECTROTERMICA NACIONAL SA DE CV   \n",
              "...                                                 ...   \n",
              "3337                   SERVICIO QUINTANA SUR S.A DE C.V   \n",
              "3338  CIA. PERIODISTICA DEL SOL DE QUERETARO, S.A. D...   \n",
              "3339                            SUPER Q, S. A. DE C. V.   \n",
              "3340  BANCO INVEX, S.A., INSTITUCION DE BANCA MULTIP...   \n",
              "3341                      EFECTIVALE S. de R.L. de C.V.   \n",
              "\n",
              "                                            DESCRIPCION            TIPO GASTO  \\\n",
              "0     Descripción: REVOLVEDORA, Modelo: ULTRAMP9A, M...            MAQUINARIA   \n",
              "1                                      COMISION COBRADA     COMISION BANCARIA   \n",
              "2                                      COMISION COBRADA     COMISION BANCARIA   \n",
              "3      HONORARIOS CONTABLES\\nDEL MES DE ENERO DEL 2020.  HONORARIOS CONTABLES   \n",
              "4                                                  Pago               COMPRAS   \n",
              "...                                                 ...                   ...   \n",
              "3337                                        32011 MAGNA           COMBUSTIBLE   \n",
              "3338   82101504-PUBLICIDAD EN PERIODICOSCALOR Y CONTROL            PUBLICIDAD   \n",
              "3339                  REF VICTORIA GROSELLA 3 LT PET NR             ALIMENTOS   \n",
              "3340                             COMISIONES E INTERESES     COMISION BANCARIA   \n",
              "3341  CONSUMOS DE COMBUSTIBLE DE MONEDEROS ELECTRONICOS           COMBUSTIBLE   \n",
              "\n",
              "       IMPORTE      IVA  TOTAL MX  \n",
              "0         0.00  2248.28   2248.28  \n",
              "1       490.00    78.40    568.40  \n",
              "2       195.00    31.20    226.20  \n",
              "3     10694.25  1711.08  12405.33  \n",
              "4         0.00     0.00      0.00  \n",
              "...        ...      ...       ...  \n",
              "3337    129.79    20.21    150.00  \n",
              "3338   2284.80   365.57   2650.37  \n",
              "3339    163.79    26.21    190.00  \n",
              "3340      0.00     0.00      0.00  \n",
              "3341  14889.29     0.00  14889.29  \n",
              "\n",
              "[3342 rows x 9 columns]"
            ],
            "text/html": [
              "\n",
              "  <div id=\"df-2d0b0704-f151-4fe7-a333-89f6bbaf4ae0\">\n",
              "    <div class=\"colab-df-container\">\n",
              "      <div>\n",
              "<style scoped>\n",
              "    .dataframe tbody tr th:only-of-type {\n",
              "        vertical-align: middle;\n",
              "    }\n",
              "\n",
              "    .dataframe tbody tr th {\n",
              "        vertical-align: top;\n",
              "    }\n",
              "\n",
              "    .dataframe thead th {\n",
              "        text-align: right;\n",
              "    }\n",
              "</style>\n",
              "<table border=\"1\" class=\"dataframe\">\n",
              "  <thead>\n",
              "    <tr style=\"text-align: right;\">\n",
              "      <th></th>\n",
              "      <th>Unnamed: 0</th>\n",
              "      <th>FECHA</th>\n",
              "      <th>FOLIO</th>\n",
              "      <th>PROVEEDOR</th>\n",
              "      <th>DESCRIPCION</th>\n",
              "      <th>TIPO GASTO</th>\n",
              "      <th>IMPORTE</th>\n",
              "      <th>IVA</th>\n",
              "      <th>TOTAL MX</th>\n",
              "    </tr>\n",
              "  </thead>\n",
              "  <tbody>\n",
              "    <tr>\n",
              "      <th>0</th>\n",
              "      <td>0</td>\n",
              "      <td>2020-01-01</td>\n",
              "      <td>39408</td>\n",
              "      <td>ARSI RENTA SA DE CV</td>\n",
              "      <td>Descripción: REVOLVEDORA, Modelo: ULTRAMP9A, M...</td>\n",
              "      <td>MAQUINARIA</td>\n",
              "      <td>0.00</td>\n",
              "      <td>2248.28</td>\n",
              "      <td>2248.28</td>\n",
              "    </tr>\n",
              "    <tr>\n",
              "      <th>1</th>\n",
              "      <td>1</td>\n",
              "      <td>2020-01-01</td>\n",
              "      <td>0001010100750847116902</td>\n",
              "      <td>BANCO NACIONAL DE MEXICO, S.A.</td>\n",
              "      <td>COMISION COBRADA</td>\n",
              "      <td>COMISION BANCARIA</td>\n",
              "      <td>490.00</td>\n",
              "      <td>78.40</td>\n",
              "      <td>568.40</td>\n",
              "    </tr>\n",
              "    <tr>\n",
              "      <th>2</th>\n",
              "      <td>2</td>\n",
              "      <td>2020-01-01</td>\n",
              "      <td>0001010100752163714102</td>\n",
              "      <td>BANCO NACIONAL DE MEXICO, S.A.</td>\n",
              "      <td>COMISION COBRADA</td>\n",
              "      <td>COMISION BANCARIA</td>\n",
              "      <td>195.00</td>\n",
              "      <td>31.20</td>\n",
              "      <td>226.20</td>\n",
              "    </tr>\n",
              "    <tr>\n",
              "      <th>3</th>\n",
              "      <td>3</td>\n",
              "      <td>2020-01-01</td>\n",
              "      <td>3663</td>\n",
              "      <td>PROMOTORA DE SERVICIOS Y SOLUCIONES EMPRESARIA...</td>\n",
              "      <td>HONORARIOS CONTABLES\\nDEL MES DE ENERO DEL 2020.</td>\n",
              "      <td>HONORARIOS CONTABLES</td>\n",
              "      <td>10694.25</td>\n",
              "      <td>1711.08</td>\n",
              "      <td>12405.33</td>\n",
              "    </tr>\n",
              "    <tr>\n",
              "      <th>4</th>\n",
              "      <td>4</td>\n",
              "      <td>2020-01-01</td>\n",
              "      <td>2849</td>\n",
              "      <td>ELECTROTERMICA NACIONAL SA DE CV</td>\n",
              "      <td>Pago</td>\n",
              "      <td>COMPRAS</td>\n",
              "      <td>0.00</td>\n",
              "      <td>0.00</td>\n",
              "      <td>0.00</td>\n",
              "    </tr>\n",
              "    <tr>\n",
              "      <th>...</th>\n",
              "      <td>...</td>\n",
              "      <td>...</td>\n",
              "      <td>...</td>\n",
              "      <td>...</td>\n",
              "      <td>...</td>\n",
              "      <td>...</td>\n",
              "      <td>...</td>\n",
              "      <td>...</td>\n",
              "      <td>...</td>\n",
              "    </tr>\n",
              "    <tr>\n",
              "      <th>3337</th>\n",
              "      <td>3337</td>\n",
              "      <td>2020-12-01</td>\n",
              "      <td>125834</td>\n",
              "      <td>SERVICIO QUINTANA SUR S.A DE C.V</td>\n",
              "      <td>32011 MAGNA</td>\n",
              "      <td>COMBUSTIBLE</td>\n",
              "      <td>129.79</td>\n",
              "      <td>20.21</td>\n",
              "      <td>150.00</td>\n",
              "    </tr>\n",
              "    <tr>\n",
              "      <th>3338</th>\n",
              "      <td>3338</td>\n",
              "      <td>2020-12-01</td>\n",
              "      <td>37652</td>\n",
              "      <td>CIA. PERIODISTICA DEL SOL DE QUERETARO, S.A. D...</td>\n",
              "      <td>82101504-PUBLICIDAD EN PERIODICOSCALOR Y CONTROL</td>\n",
              "      <td>PUBLICIDAD</td>\n",
              "      <td>2284.80</td>\n",
              "      <td>365.57</td>\n",
              "      <td>2650.37</td>\n",
              "    </tr>\n",
              "    <tr>\n",
              "      <th>3339</th>\n",
              "      <td>3339</td>\n",
              "      <td>2020-12-01</td>\n",
              "      <td>160</td>\n",
              "      <td>SUPER Q, S. A. DE C. V.</td>\n",
              "      <td>REF VICTORIA GROSELLA 3 LT PET NR</td>\n",
              "      <td>ALIMENTOS</td>\n",
              "      <td>163.79</td>\n",
              "      <td>26.21</td>\n",
              "      <td>190.00</td>\n",
              "    </tr>\n",
              "    <tr>\n",
              "      <th>3340</th>\n",
              "      <td>3340</td>\n",
              "      <td>2020-12-01</td>\n",
              "      <td>634875</td>\n",
              "      <td>BANCO INVEX, S.A., INSTITUCION DE BANCA MULTIP...</td>\n",
              "      <td>COMISIONES E INTERESES</td>\n",
              "      <td>COMISION BANCARIA</td>\n",
              "      <td>0.00</td>\n",
              "      <td>0.00</td>\n",
              "      <td>0.00</td>\n",
              "    </tr>\n",
              "    <tr>\n",
              "      <th>3341</th>\n",
              "      <td>3341</td>\n",
              "      <td>2020-12-01</td>\n",
              "      <td>1044477</td>\n",
              "      <td>EFECTIVALE S. de R.L. de C.V.</td>\n",
              "      <td>CONSUMOS DE COMBUSTIBLE DE MONEDEROS ELECTRONICOS</td>\n",
              "      <td>COMBUSTIBLE</td>\n",
              "      <td>14889.29</td>\n",
              "      <td>0.00</td>\n",
              "      <td>14889.29</td>\n",
              "    </tr>\n",
              "  </tbody>\n",
              "</table>\n",
              "<p>3342 rows × 9 columns</p>\n",
              "</div>\n",
              "      <button class=\"colab-df-convert\" onclick=\"convertToInteractive('df-2d0b0704-f151-4fe7-a333-89f6bbaf4ae0')\"\n",
              "              title=\"Convert this dataframe to an interactive table.\"\n",
              "              style=\"display:none;\">\n",
              "        \n",
              "  <svg xmlns=\"http://www.w3.org/2000/svg\" height=\"24px\"viewBox=\"0 0 24 24\"\n",
              "       width=\"24px\">\n",
              "    <path d=\"M0 0h24v24H0V0z\" fill=\"none\"/>\n",
              "    <path d=\"M18.56 5.44l.94 2.06.94-2.06 2.06-.94-2.06-.94-.94-2.06-.94 2.06-2.06.94zm-11 1L8.5 8.5l.94-2.06 2.06-.94-2.06-.94L8.5 2.5l-.94 2.06-2.06.94zm10 10l.94 2.06.94-2.06 2.06-.94-2.06-.94-.94-2.06-.94 2.06-2.06.94z\"/><path d=\"M17.41 7.96l-1.37-1.37c-.4-.4-.92-.59-1.43-.59-.52 0-1.04.2-1.43.59L10.3 9.45l-7.72 7.72c-.78.78-.78 2.05 0 2.83L4 21.41c.39.39.9.59 1.41.59.51 0 1.02-.2 1.41-.59l7.78-7.78 2.81-2.81c.8-.78.8-2.07 0-2.86zM5.41 20L4 18.59l7.72-7.72 1.47 1.35L5.41 20z\"/>\n",
              "  </svg>\n",
              "      </button>\n",
              "      \n",
              "  <style>\n",
              "    .colab-df-container {\n",
              "      display:flex;\n",
              "      flex-wrap:wrap;\n",
              "      gap: 12px;\n",
              "    }\n",
              "\n",
              "    .colab-df-convert {\n",
              "      background-color: #E8F0FE;\n",
              "      border: none;\n",
              "      border-radius: 50%;\n",
              "      cursor: pointer;\n",
              "      display: none;\n",
              "      fill: #1967D2;\n",
              "      height: 32px;\n",
              "      padding: 0 0 0 0;\n",
              "      width: 32px;\n",
              "    }\n",
              "\n",
              "    .colab-df-convert:hover {\n",
              "      background-color: #E2EBFA;\n",
              "      box-shadow: 0px 1px 2px rgba(60, 64, 67, 0.3), 0px 1px 3px 1px rgba(60, 64, 67, 0.15);\n",
              "      fill: #174EA6;\n",
              "    }\n",
              "\n",
              "    [theme=dark] .colab-df-convert {\n",
              "      background-color: #3B4455;\n",
              "      fill: #D2E3FC;\n",
              "    }\n",
              "\n",
              "    [theme=dark] .colab-df-convert:hover {\n",
              "      background-color: #434B5C;\n",
              "      box-shadow: 0px 1px 3px 1px rgba(0, 0, 0, 0.15);\n",
              "      filter: drop-shadow(0px 1px 2px rgba(0, 0, 0, 0.3));\n",
              "      fill: #FFFFFF;\n",
              "    }\n",
              "  </style>\n",
              "\n",
              "      <script>\n",
              "        const buttonEl =\n",
              "          document.querySelector('#df-2d0b0704-f151-4fe7-a333-89f6bbaf4ae0 button.colab-df-convert');\n",
              "        buttonEl.style.display =\n",
              "          google.colab.kernel.accessAllowed ? 'block' : 'none';\n",
              "\n",
              "        async function convertToInteractive(key) {\n",
              "          const element = document.querySelector('#df-2d0b0704-f151-4fe7-a333-89f6bbaf4ae0');\n",
              "          const dataTable =\n",
              "            await google.colab.kernel.invokeFunction('convertToInteractive',\n",
              "                                                     [key], {});\n",
              "          if (!dataTable) return;\n",
              "\n",
              "          const docLinkHtml = 'Like what you see? Visit the ' +\n",
              "            '<a target=\"_blank\" href=https://colab.research.google.com/notebooks/data_table.ipynb>data table notebook</a>'\n",
              "            + ' to learn more about interactive tables.';\n",
              "          element.innerHTML = '';\n",
              "          dataTable['output_type'] = 'display_data';\n",
              "          await google.colab.output.renderOutput(dataTable, element);\n",
              "          const docLink = document.createElement('div');\n",
              "          docLink.innerHTML = docLinkHtml;\n",
              "          element.appendChild(docLink);\n",
              "        }\n",
              "      </script>\n",
              "    </div>\n",
              "  </div>\n",
              "  "
            ]
          },
          "metadata": {},
          "execution_count": 61
        }
      ]
    },
    {
      "cell_type": "code",
      "source": [
        "#Verificar los valores sin repetirse de una columna\n",
        "unico = np.unique(df['TIPO GASTO'])\n",
        "unico"
      ],
      "metadata": {
        "colab": {
          "base_uri": "https://localhost:8080/"
        },
        "id": "QuO1nuSLQa_d",
        "outputId": "c6330db8-82c6-4867-d12e-f0daedad2eb1"
      },
      "execution_count": null,
      "outputs": [
        {
          "output_type": "execute_result",
          "data": {
            "text/plain": [
              "array(['ALIMENTOS', 'ARRENDAMIENTO FINANCIERO', 'ARRENDAMIENTO LOCAL',\n",
              "       'ATENCION CLIENTES', 'CALIBRACIONES', 'CAPACITACION',\n",
              "       'COMBUSTIBLE', 'COMISION BANCARIA', 'COMISION VENTA', 'COMPRAS',\n",
              "       'DERECHOS', 'ENERGIA ELECTRICA', 'FLETES', 'GERENCIA ADMON',\n",
              "       'GERENCIA VTAS', 'HONORARIOS ADMON', 'HONORARIOS CONTABLES',\n",
              "       'HONORARIOS PM', 'HOSPEDAJE', 'IMSS/INFONAVIT', 'MAQUILAS GIC',\n",
              "       'MAQUINARIA', 'MEDICOS', 'MENSAJERIA', 'MOBILIARIO',\n",
              "       'MTTO COMPUTO', 'MTTO LOCAL', 'MTTO TRANSPORTE', 'NO DEDUCIBLE',\n",
              "       'PAPELERIA', 'PAQUETERIA', 'PEAJES', 'PUBLICIDAD',\n",
              "       'REPARACIONES ELECTRICAS', 'SEGUROS', 'SERV FUNERARIO ',\n",
              "       'SUBCONTRATOS', 'SUSCRIPCIONES', 'TELEFONO', 'TRANSPORTE',\n",
              "       'UNIFORME', 'VALES DESPENSA'], dtype=object)"
            ]
          },
          "metadata": {},
          "execution_count": 62
        }
      ]
    },
    {
      "cell_type": "code",
      "source": [
        "#Convierto una variable a dicotómica \n",
        "df['TIPO GASTO']= df['TIPO GASTO'].replace(['ALIMENTOS', 'ARRENDAMIENTO FINANCIERO', 'ARRENDAMIENTO LOCAL',\n",
        "       'ATENCION CLIENTES', 'CALIBRACIONES', 'CAPACITACION',\n",
        "       'COMBUSTIBLE', 'COMISION BANCARIA', 'COMISION VENTA',\n",
        "       'DERECHOS', 'ENERGIA ELECTRICA', 'FLETES', 'GERENCIA ADMON',\n",
        "       'GERENCIA VTAS', 'HONORARIOS ADMON', 'HONORARIOS CONTABLES',\n",
        "       'HONORARIOS PM', 'HOSPEDAJE', 'IMSS/INFONAVIT', 'MAQUILAS GIC',\n",
        "       'MAQUINARIA', 'MEDICOS', 'MENSAJERIA', 'MOBILIARIO',\n",
        "       'MTTO COMPUTO', 'MTTO LOCAL', 'MTTO TRANSPORTE', 'NO DEDUCIBLE',\n",
        "       'PAPELERIA', 'PAQUETERIA', 'PEAJES', 'PUBLICIDAD',\n",
        "       'REPARACIONES ELECTRICAS', 'SEGUROS', 'SERV FUNERARIO ',\n",
        "       'SUBCONTRATOS', 'SUSCRIPCIONES', 'TELEFONO', 'TRANSPORTE',\n",
        "       'UNIFORME', 'VALES DESPENSA'], \"OTROS GASTOS\")\n",
        "df"
      ],
      "metadata": {
        "colab": {
          "base_uri": "https://localhost:8080/",
          "height": 658
        },
        "id": "b-AmEpzxQbIB",
        "outputId": "b4c0e498-66e8-45a2-a1c7-a48dcf1ddeae"
      },
      "execution_count": null,
      "outputs": [
        {
          "output_type": "execute_result",
          "data": {
            "text/plain": [
              "      Unnamed: 0       FECHA                   FOLIO  \\\n",
              "0              0  2020-01-01                   39408   \n",
              "1              1  2020-01-01  0001010100750847116902   \n",
              "2              2  2020-01-01  0001010100752163714102   \n",
              "3              3  2020-01-01                    3663   \n",
              "4              4  2020-01-01                    2849   \n",
              "...          ...         ...                     ...   \n",
              "3337        3337  2020-12-01                  125834   \n",
              "3338        3338  2020-12-01                   37652   \n",
              "3339        3339  2020-12-01                     160   \n",
              "3340        3340  2020-12-01                  634875   \n",
              "3341        3341  2020-12-01                 1044477   \n",
              "\n",
              "                                              PROVEEDOR  \\\n",
              "0                                   ARSI RENTA SA DE CV   \n",
              "1                        BANCO NACIONAL DE MEXICO, S.A.   \n",
              "2                        BANCO NACIONAL DE MEXICO, S.A.   \n",
              "3     PROMOTORA DE SERVICIOS Y SOLUCIONES EMPRESARIA...   \n",
              "4                      ELECTROTERMICA NACIONAL SA DE CV   \n",
              "...                                                 ...   \n",
              "3337                   SERVICIO QUINTANA SUR S.A DE C.V   \n",
              "3338  CIA. PERIODISTICA DEL SOL DE QUERETARO, S.A. D...   \n",
              "3339                            SUPER Q, S. A. DE C. V.   \n",
              "3340  BANCO INVEX, S.A., INSTITUCION DE BANCA MULTIP...   \n",
              "3341                      EFECTIVALE S. de R.L. de C.V.   \n",
              "\n",
              "                                            DESCRIPCION    TIPO GASTO  \\\n",
              "0     Descripción: REVOLVEDORA, Modelo: ULTRAMP9A, M...  OTROS GASTOS   \n",
              "1                                      COMISION COBRADA  OTROS GASTOS   \n",
              "2                                      COMISION COBRADA  OTROS GASTOS   \n",
              "3      HONORARIOS CONTABLES\\nDEL MES DE ENERO DEL 2020.  OTROS GASTOS   \n",
              "4                                                  Pago       COMPRAS   \n",
              "...                                                 ...           ...   \n",
              "3337                                        32011 MAGNA  OTROS GASTOS   \n",
              "3338   82101504-PUBLICIDAD EN PERIODICOSCALOR Y CONTROL  OTROS GASTOS   \n",
              "3339                  REF VICTORIA GROSELLA 3 LT PET NR  OTROS GASTOS   \n",
              "3340                             COMISIONES E INTERESES  OTROS GASTOS   \n",
              "3341  CONSUMOS DE COMBUSTIBLE DE MONEDEROS ELECTRONICOS  OTROS GASTOS   \n",
              "\n",
              "       IMPORTE      IVA  TOTAL MX  \n",
              "0         0.00  2248.28   2248.28  \n",
              "1       490.00    78.40    568.40  \n",
              "2       195.00    31.20    226.20  \n",
              "3     10694.25  1711.08  12405.33  \n",
              "4         0.00     0.00      0.00  \n",
              "...        ...      ...       ...  \n",
              "3337    129.79    20.21    150.00  \n",
              "3338   2284.80   365.57   2650.37  \n",
              "3339    163.79    26.21    190.00  \n",
              "3340      0.00     0.00      0.00  \n",
              "3341  14889.29     0.00  14889.29  \n",
              "\n",
              "[3342 rows x 9 columns]"
            ],
            "text/html": [
              "\n",
              "  <div id=\"df-f2da903d-0b23-4216-bee3-5470f3ae1934\">\n",
              "    <div class=\"colab-df-container\">\n",
              "      <div>\n",
              "<style scoped>\n",
              "    .dataframe tbody tr th:only-of-type {\n",
              "        vertical-align: middle;\n",
              "    }\n",
              "\n",
              "    .dataframe tbody tr th {\n",
              "        vertical-align: top;\n",
              "    }\n",
              "\n",
              "    .dataframe thead th {\n",
              "        text-align: right;\n",
              "    }\n",
              "</style>\n",
              "<table border=\"1\" class=\"dataframe\">\n",
              "  <thead>\n",
              "    <tr style=\"text-align: right;\">\n",
              "      <th></th>\n",
              "      <th>Unnamed: 0</th>\n",
              "      <th>FECHA</th>\n",
              "      <th>FOLIO</th>\n",
              "      <th>PROVEEDOR</th>\n",
              "      <th>DESCRIPCION</th>\n",
              "      <th>TIPO GASTO</th>\n",
              "      <th>IMPORTE</th>\n",
              "      <th>IVA</th>\n",
              "      <th>TOTAL MX</th>\n",
              "    </tr>\n",
              "  </thead>\n",
              "  <tbody>\n",
              "    <tr>\n",
              "      <th>0</th>\n",
              "      <td>0</td>\n",
              "      <td>2020-01-01</td>\n",
              "      <td>39408</td>\n",
              "      <td>ARSI RENTA SA DE CV</td>\n",
              "      <td>Descripción: REVOLVEDORA, Modelo: ULTRAMP9A, M...</td>\n",
              "      <td>OTROS GASTOS</td>\n",
              "      <td>0.00</td>\n",
              "      <td>2248.28</td>\n",
              "      <td>2248.28</td>\n",
              "    </tr>\n",
              "    <tr>\n",
              "      <th>1</th>\n",
              "      <td>1</td>\n",
              "      <td>2020-01-01</td>\n",
              "      <td>0001010100750847116902</td>\n",
              "      <td>BANCO NACIONAL DE MEXICO, S.A.</td>\n",
              "      <td>COMISION COBRADA</td>\n",
              "      <td>OTROS GASTOS</td>\n",
              "      <td>490.00</td>\n",
              "      <td>78.40</td>\n",
              "      <td>568.40</td>\n",
              "    </tr>\n",
              "    <tr>\n",
              "      <th>2</th>\n",
              "      <td>2</td>\n",
              "      <td>2020-01-01</td>\n",
              "      <td>0001010100752163714102</td>\n",
              "      <td>BANCO NACIONAL DE MEXICO, S.A.</td>\n",
              "      <td>COMISION COBRADA</td>\n",
              "      <td>OTROS GASTOS</td>\n",
              "      <td>195.00</td>\n",
              "      <td>31.20</td>\n",
              "      <td>226.20</td>\n",
              "    </tr>\n",
              "    <tr>\n",
              "      <th>3</th>\n",
              "      <td>3</td>\n",
              "      <td>2020-01-01</td>\n",
              "      <td>3663</td>\n",
              "      <td>PROMOTORA DE SERVICIOS Y SOLUCIONES EMPRESARIA...</td>\n",
              "      <td>HONORARIOS CONTABLES\\nDEL MES DE ENERO DEL 2020.</td>\n",
              "      <td>OTROS GASTOS</td>\n",
              "      <td>10694.25</td>\n",
              "      <td>1711.08</td>\n",
              "      <td>12405.33</td>\n",
              "    </tr>\n",
              "    <tr>\n",
              "      <th>4</th>\n",
              "      <td>4</td>\n",
              "      <td>2020-01-01</td>\n",
              "      <td>2849</td>\n",
              "      <td>ELECTROTERMICA NACIONAL SA DE CV</td>\n",
              "      <td>Pago</td>\n",
              "      <td>COMPRAS</td>\n",
              "      <td>0.00</td>\n",
              "      <td>0.00</td>\n",
              "      <td>0.00</td>\n",
              "    </tr>\n",
              "    <tr>\n",
              "      <th>...</th>\n",
              "      <td>...</td>\n",
              "      <td>...</td>\n",
              "      <td>...</td>\n",
              "      <td>...</td>\n",
              "      <td>...</td>\n",
              "      <td>...</td>\n",
              "      <td>...</td>\n",
              "      <td>...</td>\n",
              "      <td>...</td>\n",
              "    </tr>\n",
              "    <tr>\n",
              "      <th>3337</th>\n",
              "      <td>3337</td>\n",
              "      <td>2020-12-01</td>\n",
              "      <td>125834</td>\n",
              "      <td>SERVICIO QUINTANA SUR S.A DE C.V</td>\n",
              "      <td>32011 MAGNA</td>\n",
              "      <td>OTROS GASTOS</td>\n",
              "      <td>129.79</td>\n",
              "      <td>20.21</td>\n",
              "      <td>150.00</td>\n",
              "    </tr>\n",
              "    <tr>\n",
              "      <th>3338</th>\n",
              "      <td>3338</td>\n",
              "      <td>2020-12-01</td>\n",
              "      <td>37652</td>\n",
              "      <td>CIA. PERIODISTICA DEL SOL DE QUERETARO, S.A. D...</td>\n",
              "      <td>82101504-PUBLICIDAD EN PERIODICOSCALOR Y CONTROL</td>\n",
              "      <td>OTROS GASTOS</td>\n",
              "      <td>2284.80</td>\n",
              "      <td>365.57</td>\n",
              "      <td>2650.37</td>\n",
              "    </tr>\n",
              "    <tr>\n",
              "      <th>3339</th>\n",
              "      <td>3339</td>\n",
              "      <td>2020-12-01</td>\n",
              "      <td>160</td>\n",
              "      <td>SUPER Q, S. A. DE C. V.</td>\n",
              "      <td>REF VICTORIA GROSELLA 3 LT PET NR</td>\n",
              "      <td>OTROS GASTOS</td>\n",
              "      <td>163.79</td>\n",
              "      <td>26.21</td>\n",
              "      <td>190.00</td>\n",
              "    </tr>\n",
              "    <tr>\n",
              "      <th>3340</th>\n",
              "      <td>3340</td>\n",
              "      <td>2020-12-01</td>\n",
              "      <td>634875</td>\n",
              "      <td>BANCO INVEX, S.A., INSTITUCION DE BANCA MULTIP...</td>\n",
              "      <td>COMISIONES E INTERESES</td>\n",
              "      <td>OTROS GASTOS</td>\n",
              "      <td>0.00</td>\n",
              "      <td>0.00</td>\n",
              "      <td>0.00</td>\n",
              "    </tr>\n",
              "    <tr>\n",
              "      <th>3341</th>\n",
              "      <td>3341</td>\n",
              "      <td>2020-12-01</td>\n",
              "      <td>1044477</td>\n",
              "      <td>EFECTIVALE S. de R.L. de C.V.</td>\n",
              "      <td>CONSUMOS DE COMBUSTIBLE DE MONEDEROS ELECTRONICOS</td>\n",
              "      <td>OTROS GASTOS</td>\n",
              "      <td>14889.29</td>\n",
              "      <td>0.00</td>\n",
              "      <td>14889.29</td>\n",
              "    </tr>\n",
              "  </tbody>\n",
              "</table>\n",
              "<p>3342 rows × 9 columns</p>\n",
              "</div>\n",
              "      <button class=\"colab-df-convert\" onclick=\"convertToInteractive('df-f2da903d-0b23-4216-bee3-5470f3ae1934')\"\n",
              "              title=\"Convert this dataframe to an interactive table.\"\n",
              "              style=\"display:none;\">\n",
              "        \n",
              "  <svg xmlns=\"http://www.w3.org/2000/svg\" height=\"24px\"viewBox=\"0 0 24 24\"\n",
              "       width=\"24px\">\n",
              "    <path d=\"M0 0h24v24H0V0z\" fill=\"none\"/>\n",
              "    <path d=\"M18.56 5.44l.94 2.06.94-2.06 2.06-.94-2.06-.94-.94-2.06-.94 2.06-2.06.94zm-11 1L8.5 8.5l.94-2.06 2.06-.94-2.06-.94L8.5 2.5l-.94 2.06-2.06.94zm10 10l.94 2.06.94-2.06 2.06-.94-2.06-.94-.94-2.06-.94 2.06-2.06.94z\"/><path d=\"M17.41 7.96l-1.37-1.37c-.4-.4-.92-.59-1.43-.59-.52 0-1.04.2-1.43.59L10.3 9.45l-7.72 7.72c-.78.78-.78 2.05 0 2.83L4 21.41c.39.39.9.59 1.41.59.51 0 1.02-.2 1.41-.59l7.78-7.78 2.81-2.81c.8-.78.8-2.07 0-2.86zM5.41 20L4 18.59l7.72-7.72 1.47 1.35L5.41 20z\"/>\n",
              "  </svg>\n",
              "      </button>\n",
              "      \n",
              "  <style>\n",
              "    .colab-df-container {\n",
              "      display:flex;\n",
              "      flex-wrap:wrap;\n",
              "      gap: 12px;\n",
              "    }\n",
              "\n",
              "    .colab-df-convert {\n",
              "      background-color: #E8F0FE;\n",
              "      border: none;\n",
              "      border-radius: 50%;\n",
              "      cursor: pointer;\n",
              "      display: none;\n",
              "      fill: #1967D2;\n",
              "      height: 32px;\n",
              "      padding: 0 0 0 0;\n",
              "      width: 32px;\n",
              "    }\n",
              "\n",
              "    .colab-df-convert:hover {\n",
              "      background-color: #E2EBFA;\n",
              "      box-shadow: 0px 1px 2px rgba(60, 64, 67, 0.3), 0px 1px 3px 1px rgba(60, 64, 67, 0.15);\n",
              "      fill: #174EA6;\n",
              "    }\n",
              "\n",
              "    [theme=dark] .colab-df-convert {\n",
              "      background-color: #3B4455;\n",
              "      fill: #D2E3FC;\n",
              "    }\n",
              "\n",
              "    [theme=dark] .colab-df-convert:hover {\n",
              "      background-color: #434B5C;\n",
              "      box-shadow: 0px 1px 3px 1px rgba(0, 0, 0, 0.15);\n",
              "      filter: drop-shadow(0px 1px 2px rgba(0, 0, 0, 0.3));\n",
              "      fill: #FFFFFF;\n",
              "    }\n",
              "  </style>\n",
              "\n",
              "      <script>\n",
              "        const buttonEl =\n",
              "          document.querySelector('#df-f2da903d-0b23-4216-bee3-5470f3ae1934 button.colab-df-convert');\n",
              "        buttonEl.style.display =\n",
              "          google.colab.kernel.accessAllowed ? 'block' : 'none';\n",
              "\n",
              "        async function convertToInteractive(key) {\n",
              "          const element = document.querySelector('#df-f2da903d-0b23-4216-bee3-5470f3ae1934');\n",
              "          const dataTable =\n",
              "            await google.colab.kernel.invokeFunction('convertToInteractive',\n",
              "                                                     [key], {});\n",
              "          if (!dataTable) return;\n",
              "\n",
              "          const docLinkHtml = 'Like what you see? Visit the ' +\n",
              "            '<a target=\"_blank\" href=https://colab.research.google.com/notebooks/data_table.ipynb>data table notebook</a>'\n",
              "            + ' to learn more about interactive tables.';\n",
              "          element.innerHTML = '';\n",
              "          dataTable['output_type'] = 'display_data';\n",
              "          await google.colab.output.renderOutput(dataTable, element);\n",
              "          const docLink = document.createElement('div');\n",
              "          docLink.innerHTML = docLinkHtml;\n",
              "          element.appendChild(docLink);\n",
              "        }\n",
              "      </script>\n",
              "    </div>\n",
              "  </div>\n",
              "  "
            ]
          },
          "metadata": {},
          "execution_count": 63
        }
      ]
    },
    {
      "cell_type": "code",
      "source": [
        "#Rellenamos nulos\n",
        "df =df.fillna(method=\"bfill\")\n",
        "df =df.fillna(method=\"ffill\")\n"
      ],
      "metadata": {
        "id": "_uuDD5trcYoO"
      },
      "execution_count": null,
      "outputs": []
    },
    {
      "cell_type": "code",
      "source": [
        "#Declaramos las variables dependientes e independientes para la regresión Logística\n",
        "Vars_Indep= df[['TOTAL MX']]\n",
        "Var_Dep= df['TIPO GASTO']"
      ],
      "metadata": {
        "id": "UpTe1UuRcgnE"
      },
      "execution_count": null,
      "outputs": []
    },
    {
      "cell_type": "code",
      "source": [
        "#Redefinimos las variables \n",
        "X= Vars_Indep\n",
        "y= Var_Dep"
      ],
      "metadata": {
        "id": "wACjx4bAchca"
      },
      "execution_count": null,
      "outputs": []
    },
    {
      "cell_type": "code",
      "source": [
        "#Dividimos el conjunto de datos en la parte de entrenamiento y prueba:\n",
        "X_train, X_test, y_train, y_test = train_test_split(X, y, test_size=0.3, random_state =None)"
      ],
      "metadata": {
        "id": "0SlqN20_ckc5"
      },
      "execution_count": null,
      "outputs": []
    },
    {
      "cell_type": "code",
      "source": [
        "#Se escalan todos los datos\n",
        "escalar = StandardScaler()"
      ],
      "metadata": {
        "id": "MkwSH7-1eZpR"
      },
      "execution_count": null,
      "outputs": []
    },
    {
      "cell_type": "code",
      "source": [
        "#Para realizar el escalamiento de las variables “X” tanto de entrenamiento como de prueba, utilizaremos fit_transform\n",
        "X_train = escalar.fit_transform(X_train)\n",
        "X_test = escalar.transform(X_test)"
      ],
      "metadata": {
        "id": "m7G55cbNefKi"
      },
      "execution_count": null,
      "outputs": []
    },
    {
      "cell_type": "code",
      "source": [
        "#Definimos el algoritmo a utilizar\n",
        "from sklearn.linear_model import LogisticRegression\n",
        "algoritmo = LogisticRegression()"
      ],
      "metadata": {
        "id": "9ODFuBepehxE"
      },
      "execution_count": null,
      "outputs": []
    },
    {
      "cell_type": "code",
      "source": [
        "#Entrenamos el modelo\n",
        "algoritmo.fit(X_train, y_train)"
      ],
      "metadata": {
        "colab": {
          "base_uri": "https://localhost:8080/",
          "height": 74
        },
        "id": "TGoNkF8eej4u",
        "outputId": "c4e36542-3160-4983-ec37-9b337f12e416"
      },
      "execution_count": null,
      "outputs": [
        {
          "output_type": "execute_result",
          "data": {
            "text/plain": [
              "LogisticRegression()"
            ],
            "text/html": [
              "<style>#sk-container-id-4 {color: black;background-color: white;}#sk-container-id-4 pre{padding: 0;}#sk-container-id-4 div.sk-toggleable {background-color: white;}#sk-container-id-4 label.sk-toggleable__label {cursor: pointer;display: block;width: 100%;margin-bottom: 0;padding: 0.3em;box-sizing: border-box;text-align: center;}#sk-container-id-4 label.sk-toggleable__label-arrow:before {content: \"▸\";float: left;margin-right: 0.25em;color: #696969;}#sk-container-id-4 label.sk-toggleable__label-arrow:hover:before {color: black;}#sk-container-id-4 div.sk-estimator:hover label.sk-toggleable__label-arrow:before {color: black;}#sk-container-id-4 div.sk-toggleable__content {max-height: 0;max-width: 0;overflow: hidden;text-align: left;background-color: #f0f8ff;}#sk-container-id-4 div.sk-toggleable__content pre {margin: 0.2em;color: black;border-radius: 0.25em;background-color: #f0f8ff;}#sk-container-id-4 input.sk-toggleable__control:checked~div.sk-toggleable__content {max-height: 200px;max-width: 100%;overflow: auto;}#sk-container-id-4 input.sk-toggleable__control:checked~label.sk-toggleable__label-arrow:before {content: \"▾\";}#sk-container-id-4 div.sk-estimator input.sk-toggleable__control:checked~label.sk-toggleable__label {background-color: #d4ebff;}#sk-container-id-4 div.sk-label input.sk-toggleable__control:checked~label.sk-toggleable__label {background-color: #d4ebff;}#sk-container-id-4 input.sk-hidden--visually {border: 0;clip: rect(1px 1px 1px 1px);clip: rect(1px, 1px, 1px, 1px);height: 1px;margin: -1px;overflow: hidden;padding: 0;position: absolute;width: 1px;}#sk-container-id-4 div.sk-estimator {font-family: monospace;background-color: #f0f8ff;border: 1px dotted black;border-radius: 0.25em;box-sizing: border-box;margin-bottom: 0.5em;}#sk-container-id-4 div.sk-estimator:hover {background-color: #d4ebff;}#sk-container-id-4 div.sk-parallel-item::after {content: \"\";width: 100%;border-bottom: 1px solid gray;flex-grow: 1;}#sk-container-id-4 div.sk-label:hover label.sk-toggleable__label {background-color: #d4ebff;}#sk-container-id-4 div.sk-serial::before {content: \"\";position: absolute;border-left: 1px solid gray;box-sizing: border-box;top: 0;bottom: 0;left: 50%;z-index: 0;}#sk-container-id-4 div.sk-serial {display: flex;flex-direction: column;align-items: center;background-color: white;padding-right: 0.2em;padding-left: 0.2em;position: relative;}#sk-container-id-4 div.sk-item {position: relative;z-index: 1;}#sk-container-id-4 div.sk-parallel {display: flex;align-items: stretch;justify-content: center;background-color: white;position: relative;}#sk-container-id-4 div.sk-item::before, #sk-container-id-4 div.sk-parallel-item::before {content: \"\";position: absolute;border-left: 1px solid gray;box-sizing: border-box;top: 0;bottom: 0;left: 50%;z-index: -1;}#sk-container-id-4 div.sk-parallel-item {display: flex;flex-direction: column;z-index: 1;position: relative;background-color: white;}#sk-container-id-4 div.sk-parallel-item:first-child::after {align-self: flex-end;width: 50%;}#sk-container-id-4 div.sk-parallel-item:last-child::after {align-self: flex-start;width: 50%;}#sk-container-id-4 div.sk-parallel-item:only-child::after {width: 0;}#sk-container-id-4 div.sk-dashed-wrapped {border: 1px dashed gray;margin: 0 0.4em 0.5em 0.4em;box-sizing: border-box;padding-bottom: 0.4em;background-color: white;}#sk-container-id-4 div.sk-label label {font-family: monospace;font-weight: bold;display: inline-block;line-height: 1.2em;}#sk-container-id-4 div.sk-label-container {text-align: center;}#sk-container-id-4 div.sk-container {/* jupyter's `normalize.less` sets `[hidden] { display: none; }` but bootstrap.min.css set `[hidden] { display: none !important; }` so we also need the `!important` here to be able to override the default hidden behavior on the sphinx rendered scikit-learn.org. See: https://github.com/scikit-learn/scikit-learn/issues/21755 */display: inline-block !important;position: relative;}#sk-container-id-4 div.sk-text-repr-fallback {display: none;}</style><div id=\"sk-container-id-4\" class=\"sk-top-container\"><div class=\"sk-text-repr-fallback\"><pre>LogisticRegression()</pre><b>In a Jupyter environment, please rerun this cell to show the HTML representation or trust the notebook. <br />On GitHub, the HTML representation is unable to render, please try loading this page with nbviewer.org.</b></div><div class=\"sk-container\" hidden><div class=\"sk-item\"><div class=\"sk-estimator sk-toggleable\"><input class=\"sk-toggleable__control sk-hidden--visually\" id=\"sk-estimator-id-4\" type=\"checkbox\" checked><label for=\"sk-estimator-id-4\" class=\"sk-toggleable__label sk-toggleable__label-arrow\">LogisticRegression</label><div class=\"sk-toggleable__content\"><pre>LogisticRegression()</pre></div></div></div></div></div>"
            ]
          },
          "metadata": {},
          "execution_count": 71
        }
      ]
    },
    {
      "cell_type": "code",
      "source": [
        "#Realizamos una predicción\n",
        "y_pred = algoritmo.predict(X_test) \n",
        "y_pred"
      ],
      "metadata": {
        "id": "RmhkpqPufPtq",
        "colab": {
          "base_uri": "https://localhost:8080/"
        },
        "outputId": "e84f29b9-e0c5-4d74-c04e-4dcec262f436"
      },
      "execution_count": null,
      "outputs": [
        {
          "output_type": "execute_result",
          "data": {
            "text/plain": [
              "array(['OTROS GASTOS', 'OTROS GASTOS', 'OTROS GASTOS', ...,\n",
              "       'OTROS GASTOS', 'OTROS GASTOS', 'OTROS GASTOS'], dtype=object)"
            ]
          },
          "metadata": {},
          "execution_count": 72
        }
      ]
    },
    {
      "cell_type": "code",
      "source": [
        "#Verifico la matriz de Confusión\n",
        "from sklearn.metrics import confusion_matrix\n",
        "matriz = confusion_matrix(y_test, y_pred)\n",
        "print('Matriz de Confusión:')\n",
        "print(matriz)"
      ],
      "metadata": {
        "colab": {
          "base_uri": "https://localhost:8080/"
        },
        "id": "HcmoerMWfSgz",
        "outputId": "55956859-c7ac-4419-bcb7-b4f8b9b2b24f"
      },
      "execution_count": null,
      "outputs": [
        {
          "output_type": "stream",
          "name": "stdout",
          "text": [
            "Matriz de Confusión:\n",
            "[[  0 423]\n",
            " [  0 580]]\n"
          ]
        }
      ]
    },
    {
      "cell_type": "code",
      "source": [
        "#Calculo la precisión del modelo\n",
        "from sklearn.metrics import precision_score\n",
        "\n",
        "precision = precision_score(y_test, y_pred, average=\"weighted\", pos_label=\"COMPRAS\")\n",
        "print('Precisión del modelo:')\n",
        "print(precision)"
      ],
      "metadata": {
        "colab": {
          "base_uri": "https://localhost:8080/"
        },
        "id": "EZLYhQv9ffsZ",
        "outputId": "9900c4ce-8779-4b5e-b310-d5eb16ac7630"
      },
      "execution_count": null,
      "outputs": [
        {
          "output_type": "stream",
          "name": "stdout",
          "text": [
            "Precisión del modelo:\n",
            "0.33439064660455325\n"
          ]
        },
        {
          "output_type": "stream",
          "name": "stderr",
          "text": [
            "/usr/local/lib/python3.10/dist-packages/sklearn/metrics/_classification.py:1396: UserWarning: Note that pos_label (set to 'COMPRAS') is ignored when average != 'binary' (got 'weighted'). You may use labels=[pos_label] to specify a single positive class.\n",
            "  warnings.warn(\n",
            "/usr/local/lib/python3.10/dist-packages/sklearn/metrics/_classification.py:1344: UndefinedMetricWarning: Precision is ill-defined and being set to 0.0 in labels with no predicted samples. Use `zero_division` parameter to control this behavior.\n",
            "  _warn_prf(average, modifier, msg_start, len(result))\n"
          ]
        }
      ]
    },
    {
      "cell_type": "code",
      "source": [
        "#Calculo la exactitud del modelo\n",
        "from sklearn.metrics import accuracy_score\n",
        "\n",
        "exactitud = accuracy_score(y_test, y_pred)\n",
        "print('Exactitud del modelo:')\n",
        "print(exactitud)"
      ],
      "metadata": {
        "colab": {
          "base_uri": "https://localhost:8080/"
        },
        "id": "JuQmoNf8gPHT",
        "outputId": "7f6285b4-4cbb-49d4-8e2c-ce486d357c81"
      },
      "execution_count": null,
      "outputs": [
        {
          "output_type": "stream",
          "name": "stdout",
          "text": [
            "Exactitud del modelo:\n",
            "0.5782652043868395\n"
          ]
        }
      ]
    },
    {
      "cell_type": "code",
      "source": [
        "#Calculo la sensibilidad del modelo\n",
        "from sklearn.metrics import recall_score\n",
        "\n",
        "sensibilidad = recall_score(y_test, y_pred, average=\"weighted\", pos_label=\"COMPRAS\")\n",
        "print('Sensibilidad del modelo:')\n",
        "print(sensibilidad)"
      ],
      "metadata": {
        "colab": {
          "base_uri": "https://localhost:8080/"
        },
        "id": "2ROKMocYgRNb",
        "outputId": "fcd2ac12-37c9-45d1-93e1-0f2864870c61"
      },
      "execution_count": null,
      "outputs": [
        {
          "output_type": "stream",
          "name": "stdout",
          "text": [
            "Sensibilidad del modelo:\n",
            "0.5782652043868395\n"
          ]
        },
        {
          "output_type": "stream",
          "name": "stderr",
          "text": [
            "/usr/local/lib/python3.10/dist-packages/sklearn/metrics/_classification.py:1396: UserWarning: Note that pos_label (set to 'COMPRAS') is ignored when average != 'binary' (got 'weighted'). You may use labels=[pos_label] to specify a single positive class.\n",
            "  warnings.warn(\n"
          ]
        }
      ]
    },
    {
      "cell_type": "code",
      "source": [
        "# el puntaje F1 que es una combinación entre la precisión y la sensibilidad, para esto importamos f1_score.\n",
        "#Calculo el Puntaje F1 del modelo\n",
        "from sklearn.metrics import f1_score\n",
        "\n",
        "puntajef1 = f1_score(y_test, y_pred, average=\"weighted\", pos_label=\"COMPRAS\")\n",
        "print('Puntaje F1 del modelo:')\n",
        "print(puntajef1)"
      ],
      "metadata": {
        "colab": {
          "base_uri": "https://localhost:8080/"
        },
        "id": "dpVw7tZ1gUja",
        "outputId": "f4febb6b-964c-425a-bcdc-1ce4018c3bf0"
      },
      "execution_count": null,
      "outputs": [
        {
          "output_type": "stream",
          "name": "stdout",
          "text": [
            "Puntaje F1 del modelo:\n",
            "0.4237445591211206\n"
          ]
        },
        {
          "output_type": "stream",
          "name": "stderr",
          "text": [
            "/usr/local/lib/python3.10/dist-packages/sklearn/metrics/_classification.py:1396: UserWarning: Note that pos_label (set to 'COMPRAS') is ignored when average != 'binary' (got 'weighted'). You may use labels=[pos_label] to specify a single positive class.\n",
            "  warnings.warn(\n"
          ]
        }
      ]
    }
  ]
}